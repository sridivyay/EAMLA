{
 "cells": [
  {
   "cell_type": "code",
   "execution_count": 1,
   "metadata": {},
   "outputs": [],
   "source": [
    "from __future__ import division\n",
    "from mnist import MNIST\n",
    "from sklearn import tree\n",
    "import numpy as np\n",
    "from sklearn.metrics import classification_report,log_loss,accuracy_score,roc_auc_score\n",
    "from time import time\n",
    "import pandas as pd\n",
    "from datetime import datetime\n",
    "from openpyxl import load_workbook\n",
    "import re\n",
    "from sklearn.preprocessing import label_binarize\n",
    "from sklearn.metrics import confusion_matrix\n",
    "from sklearn import tree"
   ]
  },
  {
   "cell_type": "code",
   "execution_count": 2,
   "metadata": {},
   "outputs": [],
   "source": [
    "# Loading the data\n",
    "mndata = MNIST('./')\n",
    "images_train, labels_train = mndata.load_training()\n",
    "# images_train = np.array(images_train)\n",
    "labels_train = np.array(labels_train)\n",
    "\n",
    "images_test, labels_test = mndata.load_testing()\n",
    "# images_test = np.array(images_test)\n",
    "labels_test = np.array(labels_test)\n",
    "\n"
   ]
  },
  {
   "cell_type": "code",
   "execution_count": 10,
   "metadata": {},
   "outputs": [],
   "source": [
    "def classifaction_report_to_dataframe(report):\n",
    "    report_data = []\n",
    "    lines = report.split('\\n')\n",
    "    for line in lines[2:-5]:\n",
    "        row = {}\n",
    "        row_data = line.split('      ')\n",
    "        if len(row_data)>4:\n",
    "            row['class'] = row_data[1]\n",
    "            row['precision'] = float(row_data[2])\n",
    "            row['recall'] = float(row_data[3])\n",
    "            row['f1_score'] = float(row_data[4])\n",
    "            row['support'] = float(row_data[5])\n",
    "            report_data.append(row)\n",
    "    for line in lines[-4:-1]:\n",
    "        row = {}\n",
    "        p = re.compile(\"[a-z]+ [a-z]+\")\n",
    "        m = p.search(line)  \n",
    "        row['class'] = m.group(0)\n",
    "        p = re.compile(\"\\d+.?\\d+\")\n",
    "        row_data = p.findall(line)\n",
    "        row['precision'] = float(row_data[0])\n",
    "        row['recall'] = float(row_data[1])\n",
    "        row['f1_score'] = float(row_data[2])\n",
    "        row['support'] = float(row_data[3])\n",
    "        report_data.append(row)\n",
    "        \n",
    "        \n",
    "    dataframe = pd.DataFrame.from_dict(report_data)\n",
    "    return dataframe\n"
   ]
  },
  {
   "cell_type": "code",
   "execution_count": 3,
   "metadata": {},
   "outputs": [],
   "source": [
    "dimen = [1,2,5,10,15,20,35,30,40,50,60,75,80,100,150,200,250,300,325,350,400,450,500,550,600,700,784]\n",
    "max_depth_nodes = [1,2,5,10,15,20,25,30,35,40,None]\n"
   ]
  },
  {
   "cell_type": "code",
   "execution_count": 12,
   "metadata": {},
   "outputs": [
    {
     "data": {
      "text/plain": [
       "'\\ndimen = [1,2]\\nmax_depth_nodes = [1,2]\\n'"
      ]
     },
     "execution_count": 12,
     "metadata": {},
     "output_type": "execute_result"
    }
   ],
   "source": [
    "'''\n",
    "dimen = [1,2]\n",
    "max_depth_nodes = [1,2]\n",
    "'''"
   ]
  },
  {
   "cell_type": "code",
   "execution_count": 5,
   "metadata": {},
   "outputs": [
    {
     "name": "stderr",
     "output_type": "stream",
     "text": [
      "/usr/lib/python3/dist-packages/pandas/io/excel.py:687: DeprecationWarning: Call to deprecated function remove_sheet (Use wb.remove(worksheet) or del wb[sheetname]).\n",
      "  self.book.remove_sheet(self.book.worksheets[0])\n"
     ]
    }
   ],
   "source": [
    "excel_file_name = 'DecisionTree_PPCA_' + str(datetime.now().strftime('%Y%m%d%H%M%S')) + '.xlsx'\n",
    "excel_writer = pd.ExcelWriter(excel_file_name, engine='openpyxl')\n",
    "df = pd.DataFrame(columns=['Test'])\n",
    "df.to_excel(excel_writer, sheet_name='demo_sheet')\n",
    "\n",
    "excel_writer.save()"
   ]
  },
  {
   "cell_type": "code",
   "execution_count": 6,
   "metadata": {},
   "outputs": [],
   "source": [
    "df = pd.DataFrame(columns=['Max depth nodes','No of dimension', 'Accuracy','Normalized Accuracy', \n",
    "                 'Time_taken_train','Time_taken_test',\n",
    "                 'Negative Log loss','Macro_auc','Micro_auc'])"
   ]
  },
  {
   "cell_type": "code",
   "execution_count": 11,
   "metadata": {},
   "outputs": [
    {
     "name": "stderr",
     "output_type": "stream",
     "text": [
      "/users/mtech/sridivyay/.local/lib/python3.5/site-packages/sklearn/metrics/classification.py:1143: UndefinedMetricWarning: Precision and F-score are ill-defined and being set to 0.0 in labels with no predicted samples.\n",
      "  'precision', 'predicted', average, warn_for)\n",
      "/usr/lib/python3/dist-packages/pandas/io/excel.py:687: DeprecationWarning: Call to deprecated function remove_sheet (Use wb.remove(worksheet) or del wb[sheetname]).\n",
      "  self.book.remove_sheet(self.book.worksheets[0])\n",
      "/users/mtech/sridivyay/.local/lib/python3.5/site-packages/sklearn/metrics/classification.py:1143: UndefinedMetricWarning: Precision and F-score are ill-defined and being set to 0.0 in labels with no predicted samples.\n",
      "  'precision', 'predicted', average, warn_for)\n",
      "/usr/lib/python3/dist-packages/pandas/io/excel.py:687: DeprecationWarning: Call to deprecated function remove_sheet (Use wb.remove(worksheet) or del wb[sheetname]).\n",
      "  self.book.remove_sheet(self.book.worksheets[0])\n",
      "/users/mtech/sridivyay/.local/lib/python3.5/site-packages/sklearn/metrics/classification.py:1143: UndefinedMetricWarning: Precision and F-score are ill-defined and being set to 0.0 in labels with no predicted samples.\n",
      "  'precision', 'predicted', average, warn_for)\n",
      "/usr/lib/python3/dist-packages/pandas/io/excel.py:687: DeprecationWarning: Call to deprecated function remove_sheet (Use wb.remove(worksheet) or del wb[sheetname]).\n",
      "  self.book.remove_sheet(self.book.worksheets[0])\n",
      "/users/mtech/sridivyay/.local/lib/python3.5/site-packages/sklearn/metrics/classification.py:1143: UndefinedMetricWarning: Precision and F-score are ill-defined and being set to 0.0 in labels with no predicted samples.\n",
      "  'precision', 'predicted', average, warn_for)\n",
      "/usr/lib/python3/dist-packages/pandas/io/excel.py:687: DeprecationWarning: Call to deprecated function remove_sheet (Use wb.remove(worksheet) or del wb[sheetname]).\n",
      "  self.book.remove_sheet(self.book.worksheets[0])\n",
      "/usr/lib/python3/dist-packages/pandas/io/excel.py:687: DeprecationWarning: Call to deprecated function remove_sheet (Use wb.remove(worksheet) or del wb[sheetname]).\n",
      "  self.book.remove_sheet(self.book.worksheets[0])\n"
     ]
    }
   ],
   "source": [
    "for d in dimen:\n",
    "        t1_img = np.fromfile('train_img' + str(d) + '.dat', dtype='float64')\n",
    "        t1_tst = np.fromfile('test_img' + str(d) + '.dat', dtype='float64')\n",
    "        images_train = np.reshape(t1_img,(-1,d))\n",
    "        images_test = np.reshape(t1_tst,(-1,d))\n",
    "        \n",
    "        for n in max_depth_nodes:\n",
    "            clf = tree.DecisionTreeClassifier(max_depth=d)\n",
    "\n",
    "            start = time()\n",
    "            clf.fit(images_train, labels_train)\n",
    "            train_time = time() - start\n",
    "\n",
    "            start = time()\n",
    "            predictions = clf.predict(images_test)\n",
    "            test_time = time() - start\n",
    "            \n",
    "            accuracy = accuracy_score(predictions,labels_test,normalize=False)\n",
    "            normalized_accuracy = accuracy_score(predictions,labels_test,normalize=True)\n",
    "            log_loss_prediction = clf.predict_proba(images_test)\n",
    "            log_loss_val = log_loss(labels_test,log_loss_prediction) \n",
    "            classfication_repo = classification_report(labels_test, predictions)\n",
    "\n",
    "\n",
    "\n",
    "            labels_train_one_hot=label_binarize(labels_test,classes=[0,1,2,3,4,5,6,7,8,9])\n",
    "            predictions_one_hot=label_binarize(predictions,classes=[0,1,2,3,4,5,6,7,8,9])\n",
    "            micro_auc=roc_auc_score(labels_train_one_hot,predictions_one_hot,average=\"micro\")\n",
    "            macro_auc=roc_auc_score(labels_train_one_hot,predictions_one_hot,average=\"macro\")\n",
    "\n",
    "            cm = confusion_matrix(labels_test,predictions)\n",
    "            cm_df = pd.DataFrame(data=cm)\n",
    "            \n",
    "            \n",
    "            df_data = [n,d,accuracy,normalized_accuracy,train_time,test_time,log_loss_val,macro_auc,micro_auc]\n",
    "            df.loc[len(df)] = df_data\n",
    "    \n",
    "            book = load_workbook(excel_file_name)\n",
    "            with pd.ExcelWriter(excel_file_name, engine='openpyxl') as excel_writer:\n",
    "                excel_writer.book = book\n",
    "                df_classification_report = classifaction_report_to_dataframe(classfication_repo)\n",
    "                df_classification_report.to_excel(excel_writer, sheet_name='dt_ppca_cr' + '_'+ str(n) + '_'+ str(d))\n",
    "\n",
    "                cm_df.to_excel(excel_writer, sheet_name='dt_ppca_cr' + '_'+ str(n)+'_'+ str(d),\n",
    "                               startrow=len(df_classification_report)+5)\n",
    "\n",
    "                excel_writer.save()    \n",
    "    \n",
    "book = load_workbook(excel_file_name)\n",
    "with pd.ExcelWriter(excel_file_name, engine='openpyxl') as excel_writer:\n",
    "    excel_writer.book = book\n",
    "    df.to_excel(excel_writer, sheet_name='dt_ppca')\n",
    "    excel_writer.save()   "
   ]
  }
 ],
 "metadata": {
  "kernelspec": {
   "display_name": "Python 2",
   "language": "python",
   "name": "python2"
  },
  "language_info": {
   "codemirror_mode": {
    "name": "ipython",
    "version": 3
   },
   "file_extension": ".py",
   "mimetype": "text/x-python",
   "name": "python",
   "nbconvert_exporter": "python",
   "pygments_lexer": "ipython3",
   "version": "3.5.2"
  }
 },
 "nbformat": 4,
 "nbformat_minor": 2
}
