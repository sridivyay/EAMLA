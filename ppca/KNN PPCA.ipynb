{
 "cells": [
  {
   "cell_type": "code",
   "execution_count": 18,
   "metadata": {},
   "outputs": [],
   "source": [
    "from __future__ import division\n",
    "from mnist import MNIST\n",
    "from sklearn import tree\n",
    "import numpy as np\n",
    "from sklearn.metrics import classification_report,log_loss,accuracy_score,roc_auc_score\n",
    "from time import time\n",
    "import pandas as pd\n",
    "from datetime import datetime\n",
    "from openpyxl import load_workbook\n",
    "import re\n",
    "from sklearn.preprocessing import label_binarize\n",
    "from sklearn.metrics import confusion_matrix\n",
    "from sklearn.neighbors import KNeighborsClassifier"
   ]
  },
  {
   "cell_type": "code",
   "execution_count": 9,
   "metadata": {},
   "outputs": [],
   "source": [
    "# Loading the data\n",
    "mndata = MNIST('./')\n",
    "images_train, labels_train = mndata.load_training()\n",
    "# images_train = np.array(images_train)\n",
    "labels_train = np.array(labels_train)\n",
    "\n",
    "images_test, labels_test = mndata.load_testing()\n",
    "# images_test = np.array(images_test)\n",
    "labels_test = np.array(labels_test)\n",
    "\n"
   ]
  },
  {
   "cell_type": "code",
   "execution_count": 10,
   "metadata": {},
   "outputs": [],
   "source": [
    "dimen = [1,2,5,10,15,20,35,30,40,50,60,75,80,100,150,200,250,300,325,350,400,450,500,550,600,700,784]\n",
    "neighbours = [1,10,20,25]\n"
   ]
  },
  {
   "cell_type": "code",
   "execution_count": 13,
   "metadata": {},
   "outputs": [],
   "source": [
    "# dimen = [1,2]\n",
    "# neighbours = [1,2]\n"
   ]
  },
  {
   "cell_type": "code",
   "execution_count": 20,
   "metadata": {},
   "outputs": [
    {
     "name": "stderr",
     "output_type": "stream",
     "text": [
      "/usr/lib/python3/dist-packages/pandas/io/excel.py:687: DeprecationWarning: Call to deprecated function remove_sheet (Use wb.remove(worksheet) or del wb[sheetname]).\n",
      "  self.book.remove_sheet(self.book.worksheets[0])\n"
     ]
    }
   ],
   "source": [
    "excel_file_name = 'KNN_PPCA_' + str(datetime.now().strftime('%Y%m%d%H%M%S')) + '.xlsx'\n",
    "excel_writer = pd.ExcelWriter(excel_file_name, engine='openpyxl')\n",
    "df = pd.DataFrame(columns=['Test'])\n",
    "df.to_excel(excel_writer, sheet_name='demo_sheet')\n",
    "\n",
    "excel_writer.save()"
   ]
  },
  {
   "cell_type": "code",
   "execution_count": 22,
   "metadata": {},
   "outputs": [],
   "source": [
    "df = pd.DataFrame(columns=['Number of neighbours','No of dimension', 'Accuracy','Normalized Accuracy', \n",
    "                 'Time_taken_train','Time_taken_test',\n",
    "                 'Negative Log loss','Macro_auc','Micro_auc'])"
   ]
  },
  {
   "cell_type": "code",
   "execution_count": 23,
   "metadata": {},
   "outputs": [
    {
     "name": "stderr",
     "output_type": "stream",
     "text": [
      "/usr/lib/python3/dist-packages/pandas/io/excel.py:687: DeprecationWarning: Call to deprecated function remove_sheet (Use wb.remove(worksheet) or del wb[sheetname]).\n",
      "  self.book.remove_sheet(self.book.worksheets[0])\n",
      "/usr/lib/python3/dist-packages/pandas/io/excel.py:687: DeprecationWarning: Call to deprecated function remove_sheet (Use wb.remove(worksheet) or del wb[sheetname]).\n",
      "  self.book.remove_sheet(self.book.worksheets[0])\n",
      "/usr/lib/python3/dist-packages/pandas/io/excel.py:687: DeprecationWarning: Call to deprecated function remove_sheet (Use wb.remove(worksheet) or del wb[sheetname]).\n",
      "  self.book.remove_sheet(self.book.worksheets[0])\n",
      "/usr/lib/python3/dist-packages/pandas/io/excel.py:687: DeprecationWarning: Call to deprecated function remove_sheet (Use wb.remove(worksheet) or del wb[sheetname]).\n",
      "  self.book.remove_sheet(self.book.worksheets[0])\n",
      "/usr/lib/python3/dist-packages/pandas/io/excel.py:687: DeprecationWarning: Call to deprecated function remove_sheet (Use wb.remove(worksheet) or del wb[sheetname]).\n",
      "  self.book.remove_sheet(self.book.worksheets[0])\n"
     ]
    }
   ],
   "source": [
    "for d in dimen:\n",
    "        t1_img = np.fromfile('train_img' + str(d) + '.dat', dtype='float64')\n",
    "        t1_tst = np.fromfile('test_img' + str(d) + '.dat', dtype='float64')\n",
    "        images_train = np.reshape(t1_img,(-1,d))\n",
    "        images_test = np.reshape(t1_tst,(-1,d))\n",
    "        \n",
    "        for n in neighbours:\n",
    "            neigh = KNeighborsClassifier(n_neighbors=n)\n",
    "    \n",
    "            start = time()\n",
    "            neigh.fit(images_train, labels_train) \n",
    "            train_time = time() - start\n",
    "\n",
    "            start = time()\n",
    "            predictions = neigh.predict(images_test)\n",
    "            test_time = time() - start\n",
    "            \n",
    "            accuracy = accuracy_score(predictions,labels_test,normalize=False)\n",
    "            normalized_accuracy = accuracy_score(predictions,labels_test,normalize=True)\n",
    "            log_loss_prediction = neigh.predict_proba(images_test)\n",
    "            log_loss_val = log_loss(labels_test,log_loss_prediction) \n",
    "            classfication_repo = classification_report(labels_test, predictions)\n",
    "\n",
    "\n",
    "\n",
    "            labels_train_one_hot=label_binarize(labels_test,classes=[0,1,2,3,4,5,6,7,8,9])\n",
    "            predictions_one_hot=label_binarize(predictions,classes=[0,1,2,3,4,5,6,7,8,9])\n",
    "            micro_auc=roc_auc_score(labels_train_one_hot,predictions_one_hot,average=\"micro\")\n",
    "            macro_auc=roc_auc_score(labels_train_one_hot,predictions_one_hot,average=\"macro\")\n",
    "\n",
    "            cm = confusion_matrix(labels_test,predictions)\n",
    "            cm_df = pd.DataFrame(data=cm)\n",
    "            \n",
    "            \n",
    "            df_data = [n,d,accuracy,normalized_accuracy,train_time,test_time,log_loss_val,macro_auc,micro_auc]\n",
    "            df.loc[len(df)] = df_data\n",
    "    \n",
    "            book = load_workbook(excel_file_name)\n",
    "            with pd.ExcelWriter(excel_file_name, engine='openpyxl') as excel_writer:\n",
    "                excel_writer.book = book\n",
    "                df_classification_report = classifaction_report_to_dataframe(classfication_repo)\n",
    "                df_classification_report.to_excel(excel_writer, sheet_name='knn_ppca_cr' + '_'+ str(n) + '_'+ str(d))\n",
    "\n",
    "                cm_df.to_excel(excel_writer, sheet_name='knn_ppca_cr' + '_'+ str(n)+'_'+ str(d),\n",
    "                               startrow=len(df_classification_report)+5)\n",
    "\n",
    "                excel_writer.save()    \n",
    "    \n",
    "book = load_workbook(excel_file_name)\n",
    "with pd.ExcelWriter(excel_file_name, engine='openpyxl') as excel_writer:\n",
    "    excel_writer.book = book\n",
    "    df.to_excel(excel_writer, sheet_name='knn_ppca')\n",
    "    excel_writer.save()    "
   ]
  }
 ],
 "metadata": {
  "kernelspec": {
   "display_name": "Python 2",
   "language": "python",
   "name": "python2"
  },
  "language_info": {
   "codemirror_mode": {
    "name": "ipython",
    "version": 3
   },
   "file_extension": ".py",
   "mimetype": "text/x-python",
   "name": "python",
   "nbconvert_exporter": "python",
   "pygments_lexer": "ipython3",
   "version": "3.5.2"
  }
 },
 "nbformat": 4,
 "nbformat_minor": 2
}
