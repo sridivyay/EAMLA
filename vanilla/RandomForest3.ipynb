{
 "cells": [
  {
   "cell_type": "code",
   "execution_count": 5,
   "metadata": {},
   "outputs": [],
   "source": [
    "from __future__ import division\n",
    "from mnist import MNIST\n",
    "from sklearn import tree\n",
    "import numpy as np\n",
    "from sklearn.metrics import classification_report,log_loss,accuracy_score,roc_auc_score\n",
    "from time import time\n",
    "import pandas as pd\n",
    "from datetime import datetime\n",
    "from openpyxl import load_workbook\n",
    "import re\n",
    "from sklearn.model_selection import GridSearchCV\n",
    "from sklearn.preprocessing import label_binarize\n",
    "from sklearn.metrics import confusion_matrix\n",
    "from sklearn.ensemble import RandomForestClassifier\n",
    "from sklearn.model_selection import RandomizedSearchCV\n"
   ]
  },
  {
   "cell_type": "code",
   "execution_count": 6,
   "metadata": {},
   "outputs": [],
   "source": [
    "# Loading the data\n",
    "mndata = MNIST('./')\n",
    "images_train, labels_train = mndata.load_training()\n",
    "images_test, labels_test = mndata.load_testing()\n",
    "labels_test = np.array(labels_test)\n",
    "\n",
    "images_train = np.array(images_train)\n",
    "labels_train = np.array(labels_train)"
   ]
  },
  {
   "cell_type": "code",
   "execution_count": 17,
   "metadata": {},
   "outputs": [
    {
     "name": "stderr",
     "output_type": "stream",
     "text": [
      "/users/mtech/sridivyay/.local/lib/python3.5/site-packages/sklearn/model_selection/_search.py:271: UserWarning: The total space of parameters 2 is smaller than n_iter=20. Running 2 iterations. For exhaustive searches, use GridSearchCV.\n",
      "  % (grid_size, self.n_iter, grid_size), UserWarning)\n",
      "/users/mtech/sridivyay/.local/lib/python3.5/site-packages/sklearn/ensemble/forest.py:248: FutureWarning: The default value of n_estimators will change from 10 in version 0.20 to 100 in 0.22.\n",
      "  \"10 in version 0.20 to 100 in 0.22.\", FutureWarning)\n",
      "/users/mtech/sridivyay/.local/lib/python3.5/site-packages/sklearn/ensemble/forest.py:248: FutureWarning: The default value of n_estimators will change from 10 in version 0.20 to 100 in 0.22.\n",
      "  \"10 in version 0.20 to 100 in 0.22.\", FutureWarning)\n",
      "/users/mtech/sridivyay/.local/lib/python3.5/site-packages/sklearn/ensemble/forest.py:248: FutureWarning: The default value of n_estimators will change from 10 in version 0.20 to 100 in 0.22.\n",
      "  \"10 in version 0.20 to 100 in 0.22.\", FutureWarning)\n",
      "/users/mtech/sridivyay/.local/lib/python3.5/site-packages/sklearn/ensemble/forest.py:248: FutureWarning: The default value of n_estimators will change from 10 in version 0.20 to 100 in 0.22.\n",
      "  \"10 in version 0.20 to 100 in 0.22.\", FutureWarning)\n",
      "/users/mtech/sridivyay/.local/lib/python3.5/site-packages/sklearn/ensemble/forest.py:248: FutureWarning: The default value of n_estimators will change from 10 in version 0.20 to 100 in 0.22.\n",
      "  \"10 in version 0.20 to 100 in 0.22.\", FutureWarning)\n",
      "/users/mtech/sridivyay/.local/lib/python3.5/site-packages/sklearn/ensemble/forest.py:248: FutureWarning: The default value of n_estimators will change from 10 in version 0.20 to 100 in 0.22.\n",
      "  \"10 in version 0.20 to 100 in 0.22.\", FutureWarning)\n",
      "/users/mtech/sridivyay/.local/lib/python3.5/site-packages/sklearn/ensemble/forest.py:248: FutureWarning: The default value of n_estimators will change from 10 in version 0.20 to 100 in 0.22.\n",
      "  \"10 in version 0.20 to 100 in 0.22.\", FutureWarning)\n",
      "/users/mtech/sridivyay/.local/lib/python3.5/site-packages/sklearn/ensemble/forest.py:248: FutureWarning: The default value of n_estimators will change from 10 in version 0.20 to 100 in 0.22.\n",
      "  \"10 in version 0.20 to 100 in 0.22.\", FutureWarning)\n",
      "/users/mtech/sridivyay/.local/lib/python3.5/site-packages/sklearn/ensemble/forest.py:248: FutureWarning: The default value of n_estimators will change from 10 in version 0.20 to 100 in 0.22.\n",
      "  \"10 in version 0.20 to 100 in 0.22.\", FutureWarning)\n",
      "/users/mtech/sridivyay/.local/lib/python3.5/site-packages/sklearn/ensemble/forest.py:248: FutureWarning: The default value of n_estimators will change from 10 in version 0.20 to 100 in 0.22.\n",
      "  \"10 in version 0.20 to 100 in 0.22.\", FutureWarning)\n",
      "/users/mtech/sridivyay/.local/lib/python3.5/site-packages/sklearn/ensemble/forest.py:248: FutureWarning: The default value of n_estimators will change from 10 in version 0.20 to 100 in 0.22.\n",
      "  \"10 in version 0.20 to 100 in 0.22.\", FutureWarning)\n"
     ]
    },
    {
     "name": "stdout",
     "output_type": "stream",
     "text": [
      "{'max_depth': 2}\n",
      "RandomizedSearchCV took 13.38 seconds for 20 candidates parameter settings.\n",
      "{'std_train_score': array([0.0310217 , 0.01546519]), 'mean_fit_time': array([0.76090579, 1.07013164]), 'rank_test_score': array([2, 1], dtype=int32), 'std_score_time': array([0.00372056, 0.00069711]), 'std_fit_time': array([0.03402465, 0.04027354]), 'split2_test_score': array([0.42175, 0.5035 ]), 'params': [{'max_depth': 1}, {'max_depth': 2}], 'split3_test_score': array([0.41235309, 0.55005418]), 'split3_train_score': array([0.41903631, 0.55534029]), 'std_test_score': array([0.04164971, 0.03097122]), 'split2_train_score': array([0.42845833, 0.52964583]), 'split0_train_score': array([0.46371497, 0.56124596]), 'param_max_depth': masked_array(data=[1, 2],\n",
      "             mask=[False, False],\n",
      "       fill_value='?',\n",
      "            dtype=object), 'mean_score_time': array([0.05531707, 0.05728717]), 'split1_train_score': array([0.41295471, 0.520105  ]), 'mean_train_score': array([0.44382045, 0.54248332]), 'split1_test_score': array([0.4035994 , 0.50766539]), 'split0_test_score': array([0.46538942, 0.58267389]), 'split4_test_score': array([0.51533845, 0.56243748]), 'mean_test_score': array([0.44368333, 0.54126667]), 'split4_train_score': array([0.49493792, 0.54607949])}\n"
     ]
    }
   ],
   "source": [
    "# Grid Search \n",
    "clf = RandomForestClassifier()\n",
    "param_grid = {\"max_depth\": [1,10,20,25,30,35,40, None],\n",
    "              \"max_features\": [1,5,10,15,20, 30, 35],\n",
    "              \"bootstrap\": [True, False],\n",
    "              \"n_estimators\" : [10,20,25,30,35] }\n",
    "\n",
    "# param_grid = {\"max_depth\": [1,2],}\n",
    "n_iter_search = 20\n",
    "\n",
    "random_search = RandomizedSearchCV(clf, param_distributions=param_grid,n_iter=n_iter_search, cv=5)\n",
    "\n",
    "start = time()\n",
    "random_search.fit(images_train, labels_train)\n",
    "print(random_search.best_params_)\n",
    "\n",
    "random_search_result = \"RandomizedSearchCV took  \" + str((time() - start) ) +\" seconds for \" + str(n_iter_search) + \"  candidates parameter settings.\"\n",
    "\n",
    "\n",
    "with open('RandomSearch.txt', 'a') as the_file:\n",
    "    the_file.write(str(random_search.best_params_))\n",
    "    the_file.write(str(random_search.cv_results_))\n",
    "\n",
    "    \n",
    "print(\"RandomizedSearchCV took %.2f seconds for %d candidates\"\n",
    "      \" parameter settings.\" % ((time() - start), n_iter_search))\n",
    "print(random_search.cv_results_)\n"
   ]
  }
 ],
 "metadata": {
  "kernelspec": {
   "display_name": "Python 2",
   "language": "python",
   "name": "python2"
  },
  "language_info": {
   "codemirror_mode": {
    "name": "ipython",
    "version": 3
   },
   "file_extension": ".py",
   "mimetype": "text/x-python",
   "name": "python",
   "nbconvert_exporter": "python",
   "pygments_lexer": "ipython3",
   "version": "3.5.2"
  }
 },
 "nbformat": 4,
 "nbformat_minor": 2
}
