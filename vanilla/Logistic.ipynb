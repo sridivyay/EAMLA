{
 "cells": [
  {
   "cell_type": "code",
   "execution_count": 50,
   "metadata": {},
   "outputs": [],
   "source": [
    "from __future__ import division\n",
    "from mnist import MNIST\n",
    "from sklearn import tree\n",
    "import numpy as np\n",
    "from sklearn.metrics import classification_report,log_loss,accuracy_score,roc_auc_score\n",
    "from sklearn.ensemble import RandomForestClassifier\n",
    "from time import time\n",
    "import pandas as pd\n",
    "from datetime import datetime\n",
    "from openpyxl import load_workbook\n",
    "import re\n",
    "from sklearn.preprocessing import label_binarize\n",
    "from sklearn.linear_model import LogisticRegression\n",
    "\n",
    "mndata = MNIST('./')\n",
    "images_train, labels_train = mndata.load_training()\n",
    "images_test, labels_test = mndata.load_testing()\n",
    "\n",
    "images_test=np.array(images_test)\n",
    "labels_test = np.array(labels_test)\n",
    "\n",
    "images_train = np.array(images_train)\n",
    "labels_train = np.array(labels_train)\n",
    "\n",
    "solvers=[\"newton-cg\",\"lbfgs\",\"liblinear\",\"sag\"]\n",
    "solvers=[\"liblinear\"]\n"
   ]
  },
  {
   "cell_type": "code",
   "execution_count": 53,
   "metadata": {},
   "outputs": [],
   "source": [
    "def classification_report_to_dataframe2(report):\n",
    "    report_data = []\n",
    "    lines = report.split('\\n')\n",
    "    for line in lines[2:-3]:\n",
    "        row = {}\n",
    "        row_data = line.split('      ')\n",
    "        if len(row_data)>4:\n",
    "            row['class'] = row_data[1]\n",
    "            row['precision'] = float(row_data[2])\n",
    "            row['recall'] = float(row_data[3])\n",
    "            row['f1_score'] = float(row_data[4])\n",
    "            row['support'] = float(row_data[5])\n",
    "            report_data.append(row)\n",
    "    for line in lines[-2:-1]:\n",
    "        row = {}\n",
    "        p = re.compile(\"avg / total\")\n",
    "        m = p.search(line)  \n",
    "        row['class'] = m.group(0)\n",
    "        p = re.compile(\"\\d+.?\\d+\")\n",
    "        row_data = p.findall(line)\n",
    "        row['precision'] = float(row_data[0])\n",
    "        row['recall'] = float(row_data[1])\n",
    "        row['f1_score'] = float(row_data[2])\n",
    "        row['support'] = float(row_data[3])\n",
    "        report_data.append(row)\n",
    "        \n",
    "    dataframe = pd.DataFrame.from_dict(report_data)\n",
    "    return dataframe"
   ]
  },
  {
   "cell_type": "code",
   "execution_count": 54,
   "metadata": {},
   "outputs": [],
   "source": [
    "excel_file_name='Logistic' + str(datetime.now().strftime('%Y%m%d%H%m%S')) + '.xlsx'\n",
    "df=pd.DataFrame(columns=['Solver','Accuracy','Normalized Accuracy',\n",
    "                         'Time_taken_train','Time_taken_test','Negative Log loss',\n",
    "                         'Macro_auc','Micro_auc'])"
   ]
  },
  {
   "cell_type": "code",
   "execution_count": null,
   "metadata": {},
   "outputs": [],
   "source": [
    "for s in solvers:\n",
    "    classifier=LogisticRegression(solver=s)\n",
    "    start=time()\n",
    "    classifier.fit(images_train,labels_train)\n",
    "    train_time=time()-start\n",
    "    \n",
    "    start=time()\n",
    "    predictions=classifier.predict(images_test)\n",
    "    test_time=time()-start\n",
    "    accuracy=accuracy_score(predictions,labels_test,normalize=False)\n",
    "    normalized_accuracy=accuracy_score(predictions,labels_test,normalize=True)\n",
    "    log_loss_prediction=classifier.predict_proba(images_test)\n",
    "    log_loss_val=log_loss(labels_test,log_loss_prediction)\n",
    "    classification_repo=classification_report(labels_test,predictions)\n",
    "    \n",
    "    labels_test_one_hot=label_binarize(labels_test,classes=[0,1,2,3,4,5,6,7,8,9])\n",
    "    predictions_one_hot=label_binarize(predictions,classes=[0,1,2,3,4,5,6,7,8,9])\n",
    "    micro_auc=roc_auc_score(labels_test_one_hot,predictions_one_hot,average=\"micro\")\n",
    "    macro_auc=roc_auc_score(labels_test_one_hot,predictions_one_hot,average=\"macro\")\n",
    "    \n",
    "    print(micro_auc,macro_auc)\n",
    "    \n",
    "    df_data=[s,accuracy,normalized_accuracy,train_time,test_time,log_loss_val,macro_auc,micro_auc]\n",
    "    df.loc[len(df)]=df_data\n",
    "    \n",
    "excel_writer=pd.ExcelWriter(excel_file_name,engine='xlsxwriter')\n",
    "df.to_excel(excel_writer, sheet_name='logistic')\n",
    "df_classification_report=classification_report_to_dataframe2(classification_repo)\n",
    "df_classification_report.to_excel(excel_writer, sheet_name='logistic_cr')\n",
    "excel_writer.save()\n",
    "    "
   ]
  }
 ],
 "metadata": {
  "kernelspec": {
   "display_name": "Python 3",
   "language": "python",
   "name": "python3"
  },
  "language_info": {
   "codemirror_mode": {
    "name": "ipython",
    "version": 3
   },
   "file_extension": ".py",
   "mimetype": "text/x-python",
   "name": "python",
   "nbconvert_exporter": "python",
   "pygments_lexer": "ipython3",
   "version": "3.5.2"
  }
 },
 "nbformat": 4,
 "nbformat_minor": 2
}
