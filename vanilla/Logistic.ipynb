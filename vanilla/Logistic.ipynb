{
 "cells": [
  {
   "cell_type": "code",
   "execution_count": 1,
   "metadata": {},
   "outputs": [
    {
     "name": "stderr",
     "output_type": "stream",
     "text": [
      "/usr/lib/python3/dist-packages/sklearn/ensemble/weight_boosting.py:29: DeprecationWarning: numpy.core.umath_tests is an internal NumPy module and should not be imported. It will be removed in a future NumPy release.\n",
      "  from numpy.core.umath_tests import inner1d\n"
     ]
    }
   ],
   "source": [
    "from __future__ import division\n",
    "from mnist import MNIST\n",
    "from sklearn import tree\n",
    "import numpy as np\n",
    "from sklearn.metrics import classification_report,log_loss,accuracy_score,roc_auc_score\n",
    "from sklearn.ensemble import RandomForestClassifier\n",
    "from time import time\n",
    "import pandas as pd\n",
    "from datetime import datetime\n",
    "from openpyxl import load_workbook\n",
    "import re\n",
    "from sklearn.preprocessing import label_binarize\n",
    "from sklearn.linear_model import LogisticRegression\n",
    "from sklearn.metrics import confusion_matrix\n",
    "from sklearn.decomposition import PCA\n",
    "from sklearn.preprocessing import StandardScaler\n",
    "\n",
    "mndata = MNIST('./')\n",
    "images_train, labels_train = mndata.load_training()\n",
    "images_test, labels_test = mndata.load_testing()\n",
    "\n",
    "images_test=np.array(images_test)\n",
    "labels_test = np.array(labels_test)\n",
    "\n",
    "images_train1 = np.array(images_train)\n",
    "labels_train1 = np.array(labels_train)\n",
    "solvers=[\"lbfgs\"]\n"
   ]
  },
  {
   "cell_type": "code",
   "execution_count": 2,
   "metadata": {},
   "outputs": [],
   "source": [
    "def classification_report_to_dataframe2(report):\n",
    "    report_data = []\n",
    "    lines = report.split('\\n')\n",
    "    for line in lines[2:-3]:\n",
    "        row = {}\n",
    "        row_data = line.split('      ')\n",
    "        if len(row_data)>4:\n",
    "            row['class'] = row_data[1]\n",
    "            row['precision'] = float(row_data[2])\n",
    "            row['recall'] = float(row_data[3])\n",
    "            row['f1_score'] = float(row_data[4])\n",
    "            row['support'] = float(row_data[5])\n",
    "            report_data.append(row)\n",
    "    for line in lines[-2:-1]:\n",
    "        row = {}\n",
    "        p = re.compile(\"avg / total\")\n",
    "        m = p.search(line)  \n",
    "        row['class'] = m.group(0)\n",
    "        p = re.compile(\"\\d+.?\\d+\")\n",
    "        row_data = p.findall(line)\n",
    "        row['precision'] = float(row_data[0])\n",
    "        row['recall'] = float(row_data[1])\n",
    "        row['f1_score'] = float(row_data[2])\n",
    "        row['support'] = float(row_data[3])\n",
    "        report_data.append(row)\n",
    "        \n",
    "    dataframe = pd.DataFrame.from_dict(report_data)\n",
    "    return dataframe"
   ]
  },
  {
   "cell_type": "code",
   "execution_count": 3,
   "metadata": {},
   "outputs": [
    {
     "name": "stderr",
     "output_type": "stream",
     "text": [
      "/usr/lib/python3/dist-packages/pandas/io/excel.py:687: DeprecationWarning: Call to deprecated function remove_sheet (Use wb.remove(worksheet) or del wb[sheetname]).\n",
      "  self.book.remove_sheet(self.book.worksheets[0])\n"
     ]
    }
   ],
   "source": [
    "excel_file_name='Logistic_examples_' + str(datetime.now().strftime('%Y%m%d%H%m%S')) + '.xlsx'\n",
    "excel_writer = pd.ExcelWriter(excel_file_name, engine='openpyxl')\n",
    "df=pd.DataFrame(columns=['Examples','Accuracy','Normalized Accuracy',\n",
    "                         'Time_taken_train','Time_taken_test','Negative Log loss',\n",
    "                         'Macro_auc','Micro_auc'])\n",
    "df.to_excel(excel_writer, sheet_name='demo_sheet')\n",
    "\n",
    "excel_writer.save()"
   ]
  },
  {
   "cell_type": "code",
   "execution_count": 4,
   "metadata": {},
   "outputs": [],
   "source": [
    "scaler=StandardScaler()"
   ]
  },
  {
   "cell_type": "code",
   "execution_count": 8,
   "metadata": {},
   "outputs": [
    {
     "name": "stdout",
     "output_type": "stream",
     "text": [
      "[5 0 4 ... 5 6 8]\n"
     ]
    }
   ],
   "source": [
    "print(labels_train1)"
   ]
  },
  {
   "cell_type": "code",
   "execution_count": 6,
   "metadata": {},
   "outputs": [
    {
     "name": "stdout",
     "output_type": "stream",
     "text": [
      "training started for  lbfgs\n",
      "trained\n",
      "prediction started\n",
      "predicted\n",
      "             precision    recall  f1-score   support\n",
      "\n",
      "          0       0.82      0.88      0.85       980\n",
      "          1       0.72      0.95      0.82      1135\n",
      "          2       0.75      0.57      0.65      1032\n",
      "          3       0.70      0.78      0.74      1010\n",
      "          4       0.50      0.82      0.62       982\n",
      "          5       0.68      0.29      0.40       892\n",
      "          6       0.80      0.74      0.77       958\n",
      "          7       0.75      0.79      0.77      1028\n",
      "          8       0.62      0.50      0.55       974\n",
      "          9       0.50      0.41      0.45      1009\n",
      "\n",
      "avg / total       0.68      0.68      0.67     10000\n",
      "\n",
      "0.8212222222222222 0.8175811934720161\n",
      "writing\n",
      "w\n"
     ]
    },
    {
     "name": "stderr",
     "output_type": "stream",
     "text": [
      "/usr/lib/python3/dist-packages/pandas/io/excel.py:687: DeprecationWarning: Call to deprecated function remove_sheet (Use wb.remove(worksheet) or del wb[sheetname]).\n",
      "  self.book.remove_sheet(self.book.worksheets[0])\n"
     ]
    },
    {
     "name": "stdout",
     "output_type": "stream",
     "text": [
      "training started for  lbfgs\n",
      "trained\n",
      "prediction started\n",
      "predicted\n",
      "             precision    recall  f1-score   support\n",
      "\n",
      "          0       0.84      0.89      0.87       980\n",
      "          1       0.83      0.94      0.88      1135\n",
      "          2       0.74      0.72      0.73      1032\n",
      "          3       0.72      0.77      0.75      1010\n",
      "          4       0.67      0.84      0.74       982\n",
      "          5       0.67      0.34      0.45       892\n",
      "          6       0.84      0.71      0.77       958\n",
      "          7       0.76      0.85      0.80      1028\n",
      "          8       0.65      0.65      0.65       974\n",
      "          9       0.64      0.60      0.62      1009\n",
      "\n",
      "avg / total       0.74      0.74      0.73     10000\n",
      "\n",
      "0.8549999999999999 0.8514454780644016\n",
      "writing\n",
      "w\n"
     ]
    },
    {
     "name": "stderr",
     "output_type": "stream",
     "text": [
      "/usr/lib/python3/dist-packages/pandas/io/excel.py:687: DeprecationWarning: Call to deprecated function remove_sheet (Use wb.remove(worksheet) or del wb[sheetname]).\n",
      "  self.book.remove_sheet(self.book.worksheets[0])\n"
     ]
    },
    {
     "name": "stdout",
     "output_type": "stream",
     "text": [
      "training started for  lbfgs\n",
      "trained\n",
      "prediction started\n",
      "predicted\n",
      "             precision    recall  f1-score   support\n",
      "\n",
      "          0       0.85      0.93      0.89       980\n",
      "          1       0.81      0.95      0.87      1135\n",
      "          2       0.79      0.73      0.76      1032\n",
      "          3       0.74      0.77      0.75      1010\n",
      "          4       0.77      0.82      0.80       982\n",
      "          5       0.73      0.47      0.57       892\n",
      "          6       0.87      0.86      0.86       958\n",
      "          7       0.78      0.88      0.82      1028\n",
      "          8       0.69      0.61      0.65       974\n",
      "          9       0.66      0.65      0.65      1009\n",
      "\n",
      "avg / total       0.77      0.77      0.77     10000\n",
      "\n",
      "0.8734999999999999 0.8707722977865332\n",
      "writing\n"
     ]
    },
    {
     "name": "stderr",
     "output_type": "stream",
     "text": [
      "/usr/lib/python3/dist-packages/pandas/io/excel.py:687: DeprecationWarning: Call to deprecated function remove_sheet (Use wb.remove(worksheet) or del wb[sheetname]).\n",
      "  self.book.remove_sheet(self.book.worksheets[0])\n"
     ]
    },
    {
     "name": "stdout",
     "output_type": "stream",
     "text": [
      "w\n",
      "training started for  lbfgs\n",
      "trained\n",
      "prediction started\n",
      "predicted\n",
      "             precision    recall  f1-score   support\n",
      "\n",
      "          0       0.85      0.92      0.88       980\n",
      "          1       0.86      0.95      0.91      1135\n",
      "          2       0.79      0.78      0.78      1032\n",
      "          3       0.75      0.77      0.76      1010\n",
      "          4       0.75      0.80      0.78       982\n",
      "          5       0.72      0.53      0.61       892\n",
      "          6       0.88      0.87      0.88       958\n",
      "          7       0.79      0.87      0.83      1028\n",
      "          8       0.73      0.60      0.66       974\n",
      "          9       0.64      0.67      0.65      1009\n",
      "\n",
      "avg / total       0.78      0.78      0.78     10000\n",
      "\n",
      "0.8778888888888888 0.875376350710531\n",
      "writing\n",
      "w\n"
     ]
    },
    {
     "name": "stderr",
     "output_type": "stream",
     "text": [
      "/usr/lib/python3/dist-packages/pandas/io/excel.py:687: DeprecationWarning: Call to deprecated function remove_sheet (Use wb.remove(worksheet) or del wb[sheetname]).\n",
      "  self.book.remove_sheet(self.book.worksheets[0])\n"
     ]
    },
    {
     "name": "stdout",
     "output_type": "stream",
     "text": [
      "training started for  lbfgs\n",
      "trained\n",
      "prediction started\n",
      "predicted\n",
      "             precision    recall  f1-score   support\n",
      "\n",
      "          0       0.89      0.93      0.91       980\n",
      "          1       0.90      0.96      0.93      1135\n",
      "          2       0.85      0.81      0.83      1032\n",
      "          3       0.84      0.82      0.83      1010\n",
      "          4       0.82      0.81      0.82       982\n",
      "          5       0.76      0.67      0.71       892\n",
      "          6       0.89      0.89      0.89       958\n",
      "          7       0.81      0.89      0.85      1028\n",
      "          8       0.75      0.68      0.72       974\n",
      "          9       0.70      0.73      0.72      1009\n",
      "\n",
      "avg / total       0.82      0.82      0.82     10000\n",
      "\n",
      "0.9021111111111111 0.9003644143675429\n",
      "writing\n",
      "w\n"
     ]
    },
    {
     "name": "stderr",
     "output_type": "stream",
     "text": [
      "/usr/lib/python3/dist-packages/pandas/io/excel.py:687: DeprecationWarning: Call to deprecated function remove_sheet (Use wb.remove(worksheet) or del wb[sheetname]).\n",
      "  self.book.remove_sheet(self.book.worksheets[0])\n"
     ]
    },
    {
     "name": "stdout",
     "output_type": "stream",
     "text": [
      "training started for  lbfgs\n",
      "trained\n",
      "prediction started\n",
      "predicted\n",
      "             precision    recall  f1-score   support\n",
      "\n",
      "          0       0.91      0.95      0.93       980\n",
      "          1       0.93      0.96      0.94      1135\n",
      "          2       0.85      0.85      0.85      1032\n",
      "          3       0.87      0.73      0.79      1010\n",
      "          4       0.83      0.82      0.82       982\n",
      "          5       0.71      0.72      0.71       892\n",
      "          6       0.90      0.89      0.90       958\n",
      "          7       0.82      0.89      0.85      1028\n",
      "          8       0.72      0.74      0.73       974\n",
      "          9       0.76      0.74      0.75      1009\n",
      "\n",
      "avg / total       0.83      0.83      0.83     10000\n",
      "\n",
      "0.9062777777777778 0.9048829711093662\n",
      "writing\n"
     ]
    },
    {
     "name": "stderr",
     "output_type": "stream",
     "text": [
      "/usr/lib/python3/dist-packages/pandas/io/excel.py:687: DeprecationWarning: Call to deprecated function remove_sheet (Use wb.remove(worksheet) or del wb[sheetname]).\n",
      "  self.book.remove_sheet(self.book.worksheets[0])\n"
     ]
    },
    {
     "name": "stdout",
     "output_type": "stream",
     "text": [
      "w\n",
      "training started for  lbfgs\n",
      "trained\n",
      "prediction started\n",
      "predicted\n",
      "             precision    recall  f1-score   support\n",
      "\n",
      "          0       0.93      0.94      0.93       980\n",
      "          1       0.92      0.96      0.94      1135\n",
      "          2       0.85      0.85      0.85      1032\n",
      "          3       0.85      0.74      0.79      1010\n",
      "          4       0.86      0.81      0.83       982\n",
      "          5       0.70      0.73      0.72       892\n",
      "          6       0.88      0.89      0.89       958\n",
      "          7       0.81      0.89      0.85      1028\n",
      "          8       0.75      0.71      0.73       974\n",
      "          9       0.73      0.75      0.74      1009\n",
      "\n",
      "avg / total       0.83      0.83      0.83     10000\n",
      "\n",
      "0.9059999999999999 0.90458617139241\n",
      "writing\n"
     ]
    },
    {
     "name": "stderr",
     "output_type": "stream",
     "text": [
      "/usr/lib/python3/dist-packages/pandas/io/excel.py:687: DeprecationWarning: Call to deprecated function remove_sheet (Use wb.remove(worksheet) or del wb[sheetname]).\n",
      "  self.book.remove_sheet(self.book.worksheets[0])\n"
     ]
    },
    {
     "name": "stdout",
     "output_type": "stream",
     "text": [
      "w\n",
      "training started for  lbfgs\n",
      "trained\n",
      "prediction started\n",
      "predicted\n",
      "             precision    recall  f1-score   support\n",
      "\n",
      "          0       0.89      0.92      0.90       980\n",
      "          1       0.93      0.96      0.94      1135\n",
      "          2       0.85      0.84      0.85      1032\n",
      "          3       0.82      0.79      0.80      1010\n",
      "          4       0.82      0.83      0.82       982\n",
      "          5       0.72      0.75      0.74       892\n",
      "          6       0.89      0.89      0.89       958\n",
      "          7       0.82      0.86      0.84      1028\n",
      "          8       0.73      0.67      0.70       974\n",
      "          9       0.74      0.73      0.74      1009\n",
      "\n",
      "avg / total       0.82      0.83      0.82     10000\n",
      "\n",
      "0.9032222222222223 0.9019519708202297\n",
      "writing\n"
     ]
    },
    {
     "name": "stderr",
     "output_type": "stream",
     "text": [
      "/usr/lib/python3/dist-packages/pandas/io/excel.py:687: DeprecationWarning: Call to deprecated function remove_sheet (Use wb.remove(worksheet) or del wb[sheetname]).\n",
      "  self.book.remove_sheet(self.book.worksheets[0])\n"
     ]
    },
    {
     "name": "stdout",
     "output_type": "stream",
     "text": [
      "w\n",
      "training started for  lbfgs\n",
      "trained\n",
      "prediction started\n",
      "predicted\n",
      "             precision    recall  f1-score   support\n",
      "\n",
      "          0       0.89      0.93      0.91       980\n",
      "          1       0.93      0.96      0.95      1135\n",
      "          2       0.88      0.82      0.85      1032\n",
      "          3       0.80      0.81      0.81      1010\n",
      "          4       0.79      0.86      0.83       982\n",
      "          5       0.74      0.76      0.75       892\n",
      "          6       0.90      0.89      0.89       958\n",
      "          7       0.86      0.85      0.85      1028\n",
      "          8       0.76      0.70      0.73       974\n",
      "          9       0.77      0.74      0.75      1009\n",
      "\n",
      "avg / total       0.83      0.83      0.83     10000\n",
      "\n",
      "0.9076666666666667 0.9065374281475844\n",
      "writing\n"
     ]
    },
    {
     "name": "stderr",
     "output_type": "stream",
     "text": [
      "/usr/lib/python3/dist-packages/pandas/io/excel.py:687: DeprecationWarning: Call to deprecated function remove_sheet (Use wb.remove(worksheet) or del wb[sheetname]).\n",
      "  self.book.remove_sheet(self.book.worksheets[0])\n"
     ]
    },
    {
     "name": "stdout",
     "output_type": "stream",
     "text": [
      "w\n",
      "training started for  lbfgs\n",
      "trained\n",
      "prediction started\n",
      "predicted\n",
      "             precision    recall  f1-score   support\n",
      "\n",
      "          0       0.95      0.92      0.93       980\n",
      "          1       0.96      0.96      0.96      1135\n",
      "          2       0.87      0.80      0.83      1032\n",
      "          3       0.82      0.81      0.82      1010\n",
      "          4       0.88      0.89      0.89       982\n",
      "          5       0.80      0.80      0.80       892\n",
      "          6       0.92      0.90      0.91       958\n",
      "          7       0.88      0.86      0.87      1028\n",
      "          8       0.67      0.80      0.73       974\n",
      "          9       0.82      0.80      0.81      1009\n",
      "\n",
      "avg / total       0.86      0.85      0.86     10000\n",
      "\n",
      "0.9192222222222223 0.9184928258923437\n",
      "writing\n"
     ]
    },
    {
     "name": "stderr",
     "output_type": "stream",
     "text": [
      "/usr/lib/python3/dist-packages/pandas/io/excel.py:687: DeprecationWarning: Call to deprecated function remove_sheet (Use wb.remove(worksheet) or del wb[sheetname]).\n",
      "  self.book.remove_sheet(self.book.worksheets[0])\n"
     ]
    },
    {
     "name": "stdout",
     "output_type": "stream",
     "text": [
      "w\n",
      "training started for  lbfgs\n",
      "trained\n",
      "prediction started\n",
      "predicted\n",
      "             precision    recall  f1-score   support\n",
      "\n",
      "          0       0.94      0.93      0.94       980\n",
      "          1       0.95      0.97      0.96      1135\n",
      "          2       0.87      0.83      0.85      1032\n",
      "          3       0.85      0.87      0.86      1010\n",
      "          4       0.87      0.86      0.87       982\n",
      "          5       0.85      0.80      0.82       892\n",
      "          6       0.88      0.89      0.89       958\n",
      "          7       0.88      0.88      0.88      1028\n",
      "          8       0.75      0.83      0.79       974\n",
      "          9       0.85      0.83      0.84      1009\n",
      "\n",
      "avg / total       0.87      0.87      0.87     10000\n",
      "\n",
      "0.927888888888889 0.9269842484010942\n",
      "writing\n"
     ]
    },
    {
     "name": "stderr",
     "output_type": "stream",
     "text": [
      "/usr/lib/python3/dist-packages/pandas/io/excel.py:687: DeprecationWarning: Call to deprecated function remove_sheet (Use wb.remove(worksheet) or del wb[sheetname]).\n",
      "  self.book.remove_sheet(self.book.worksheets[0])\n"
     ]
    },
    {
     "name": "stdout",
     "output_type": "stream",
     "text": [
      "w\n",
      "training started for  lbfgs\n",
      "trained\n",
      "prediction started\n",
      "predicted\n",
      "             precision    recall  f1-score   support\n",
      "\n",
      "          0       0.93      0.96      0.95       980\n",
      "          1       0.95      0.97      0.96      1135\n",
      "          2       0.91      0.86      0.89      1032\n",
      "          3       0.87      0.89      0.88      1010\n",
      "          4       0.92      0.91      0.92       982\n",
      "          5       0.88      0.84      0.86       892\n",
      "          6       0.92      0.93      0.93       958\n",
      "          7       0.92      0.91      0.91      1028\n",
      "          8       0.82      0.86      0.84       974\n",
      "          9       0.88      0.87      0.88      1009\n",
      "\n",
      "avg / total       0.90      0.90      0.90     10000\n",
      "\n",
      "0.9454444444444445 0.9448177404080862\n",
      "writing\n"
     ]
    },
    {
     "name": "stderr",
     "output_type": "stream",
     "text": [
      "/usr/lib/python3/dist-packages/pandas/io/excel.py:687: DeprecationWarning: Call to deprecated function remove_sheet (Use wb.remove(worksheet) or del wb[sheetname]).\n",
      "  self.book.remove_sheet(self.book.worksheets[0])\n"
     ]
    },
    {
     "name": "stdout",
     "output_type": "stream",
     "text": [
      "w\n",
      "training started for  lbfgs\n",
      "trained\n",
      "prediction started\n",
      "predicted\n",
      "             precision    recall  f1-score   support\n",
      "\n",
      "          0       0.94      0.97      0.95       980\n",
      "          1       0.96      0.98      0.97      1135\n",
      "          2       0.92      0.87      0.90      1032\n",
      "          3       0.89      0.90      0.90      1010\n",
      "          4       0.93      0.93      0.93       982\n",
      "          5       0.90      0.85      0.87       892\n",
      "          6       0.93      0.95      0.94       958\n",
      "          7       0.92      0.91      0.92      1028\n",
      "          8       0.83      0.87      0.85       974\n",
      "          9       0.90      0.88      0.89      1009\n",
      "\n",
      "avg / total       0.91      0.91      0.91     10000\n",
      "\n",
      "0.9515 0.9509010351151955\n",
      "writing\n"
     ]
    },
    {
     "name": "stderr",
     "output_type": "stream",
     "text": [
      "/usr/lib/python3/dist-packages/pandas/io/excel.py:687: DeprecationWarning: Call to deprecated function remove_sheet (Use wb.remove(worksheet) or del wb[sheetname]).\n",
      "  self.book.remove_sheet(self.book.worksheets[0])\n"
     ]
    },
    {
     "name": "stdout",
     "output_type": "stream",
     "text": [
      "w\n",
      "training started for  lbfgs\n",
      "trained\n",
      "prediction started\n",
      "predicted\n",
      "             precision    recall  f1-score   support\n",
      "\n",
      "          0       0.95      0.97      0.96       980\n",
      "          1       0.95      0.98      0.97      1135\n",
      "          2       0.93      0.88      0.90      1032\n",
      "          3       0.88      0.90      0.89      1010\n",
      "          4       0.92      0.93      0.92       982\n",
      "          5       0.91      0.85      0.88       892\n",
      "          6       0.93      0.95      0.94       958\n",
      "          7       0.93      0.92      0.93      1028\n",
      "          8       0.84      0.88      0.86       974\n",
      "          9       0.89      0.89      0.89      1009\n",
      "\n",
      "avg / total       0.91      0.91      0.91     10000\n",
      "\n",
      "0.9527222222222222 0.9520841516912787\n",
      "writing\n"
     ]
    },
    {
     "name": "stderr",
     "output_type": "stream",
     "text": [
      "/usr/lib/python3/dist-packages/pandas/io/excel.py:687: DeprecationWarning: Call to deprecated function remove_sheet (Use wb.remove(worksheet) or del wb[sheetname]).\n",
      "  self.book.remove_sheet(self.book.worksheets[0])\n"
     ]
    },
    {
     "name": "stdout",
     "output_type": "stream",
     "text": [
      "w\n",
      "training started for  lbfgs\n",
      "trained\n",
      "prediction started\n",
      "predicted\n",
      "             precision    recall  f1-score   support\n",
      "\n",
      "          0       0.95      0.97      0.96       980\n",
      "          1       0.96      0.98      0.97      1135\n",
      "          2       0.93      0.88      0.90      1032\n",
      "          3       0.89      0.90      0.90      1010\n",
      "          4       0.92      0.93      0.92       982\n",
      "          5       0.91      0.85      0.88       892\n",
      "          6       0.93      0.95      0.94       958\n",
      "          7       0.93      0.92      0.92      1028\n",
      "          8       0.84      0.88      0.86       974\n",
      "          9       0.89      0.89      0.89      1009\n",
      "\n",
      "avg / total       0.92      0.92      0.92     10000\n",
      "\n",
      "0.953388888888889 0.9527626664554397\n",
      "writing\n"
     ]
    },
    {
     "name": "stderr",
     "output_type": "stream",
     "text": [
      "/usr/lib/python3/dist-packages/pandas/io/excel.py:687: DeprecationWarning: Call to deprecated function remove_sheet (Use wb.remove(worksheet) or del wb[sheetname]).\n",
      "  self.book.remove_sheet(self.book.worksheets[0])\n"
     ]
    },
    {
     "name": "stdout",
     "output_type": "stream",
     "text": [
      "w\n",
      "training started for  lbfgs\n",
      "trained\n",
      "prediction started\n",
      "predicted\n",
      "             precision    recall  f1-score   support\n",
      "\n",
      "          0       0.95      0.98      0.96       980\n",
      "          1       0.96      0.98      0.97      1135\n",
      "          2       0.93      0.88      0.90      1032\n",
      "          3       0.90      0.91      0.90      1010\n",
      "          4       0.93      0.93      0.93       982\n",
      "          5       0.90      0.85      0.87       892\n",
      "          6       0.94      0.95      0.94       958\n",
      "          7       0.93      0.92      0.92      1028\n",
      "          8       0.84      0.88      0.86       974\n",
      "          9       0.90      0.90      0.90      1009\n",
      "\n",
      "avg / total       0.92      0.92      0.92     10000\n",
      "\n",
      "0.9540000000000001 0.9533240897675826\n",
      "writing\n"
     ]
    },
    {
     "name": "stderr",
     "output_type": "stream",
     "text": [
      "/usr/lib/python3/dist-packages/pandas/io/excel.py:687: DeprecationWarning: Call to deprecated function remove_sheet (Use wb.remove(worksheet) or del wb[sheetname]).\n",
      "  self.book.remove_sheet(self.book.worksheets[0])\n"
     ]
    },
    {
     "name": "stdout",
     "output_type": "stream",
     "text": [
      "w\n",
      "done for all solvers\n"
     ]
    },
    {
     "name": "stderr",
     "output_type": "stream",
     "text": [
      "/usr/lib/python3/dist-packages/pandas/io/excel.py:687: DeprecationWarning: Call to deprecated function remove_sheet (Use wb.remove(worksheet) or del wb[sheetname]).\n",
      "  self.book.remove_sheet(self.book.worksheets[0])\n"
     ]
    },
    {
     "name": "stdout",
     "output_type": "stream",
     "text": [
      "w\n"
     ]
    }
   ],
   "source": [
    "ppca=[1,2,5,10,20,30,50,75,100,150,200,250,300,325,350,400,450,500,550,600,700,784]\n",
    "ppca=[1]\n",
    "set=[100,200,250,300,500,750,1000,2000,2500,5000,10000,20000,30000,40000,50000,60000]\n",
    "for t in set:\n",
    "    images_train=images_train1[0:t]\n",
    "    labels_train=labels_train1[0:t]\n",
    "    for p in ppca:\n",
    "\n",
    "        #scaler.fit(images_train)\n",
    "        #print('For',p)\n",
    "        # Apply transform to both the training set and the test set.\n",
    "        #train_img = scaler.transform(images_train)\n",
    "        #test_img = scaler.transform(images_test)\n",
    "\n",
    "        #pca = PCA(n_components=p)\n",
    "        #pca.fit(train_img)\n",
    "\n",
    "\n",
    "        #train_img = pca.transform(train_img)\n",
    "        #test_img = pca.transform(test_img\n",
    "        \n",
    "        train_img=images_train\n",
    "        test_img=images_test\n",
    "\n",
    "        s=solvers[0]\n",
    "        classifier=LogisticRegression(solver=s)\n",
    "        print(\"training started for \",s)\n",
    "        start=time()\n",
    "        classifier.fit(train_img,labels_train)\n",
    "        train_time=time()-start\n",
    "        print(\"trained\")\n",
    "        print(\"prediction started\")\n",
    "        start=time()\n",
    "        predictions=classifier.predict(test_img)\n",
    "        test_time=time()-start\n",
    "        print(\"predicted\")\n",
    "        accuracy=accuracy_score(predictions,labels_test,normalize=False)\n",
    "        normalized_accuracy=accuracy_score(predictions,labels_test,normalize=True)\n",
    "        log_loss_prediction=classifier.predict_proba(test_img)\n",
    "        log_loss_val=log_loss(labels_test,log_loss_prediction)\n",
    "        classification_repo=classification_report(labels_test,predictions)\n",
    "        print(classification_repo)\n",
    "\n",
    "        labels_test_one_hot=label_binarize(labels_test,classes=[0,1,2,3,4,5,6,7,8,9])\n",
    "        predictions_one_hot=label_binarize(predictions,classes=[0,1,2,3,4,5,6,7,8,9])\n",
    "        micro_auc=roc_auc_score(labels_test_one_hot,predictions_one_hot,average=\"micro\")\n",
    "        macro_auc=roc_auc_score(labels_test_one_hot,predictions_one_hot,average=\"macro\")\n",
    "\n",
    "        cm = confusion_matrix(labels_test,predictions)\n",
    "        cm_df = pd.DataFrame(data=cm)\n",
    "\n",
    "        print(micro_auc,macro_auc)\n",
    "\n",
    "        df_data=[t,accuracy,normalized_accuracy,train_time,test_time,log_loss_val,macro_auc,micro_auc]\n",
    "        df.loc[len(df)]=df_data\n",
    "        df_classification_report=classification_report_to_dataframe2(classification_repo)\n",
    "        df_classification_report.to_excel(excel_writer, sheet_name='logistic_cr_')\n",
    "        book = load_workbook(excel_file_name)\n",
    "\n",
    "        print(\"writing\")\n",
    "        with pd.ExcelWriter(excel_file_name, engine='openpyxl') as excel_writer:\n",
    "            excel_writer.book = book\n",
    "            #df_classification_report = classification_report_to_dataframe2(classfication_repo)\n",
    "            df_classification_report.to_excel(excel_writer, sheet_name='logistic_cr_' +str(t)+'_'+ str(p))\n",
    "            cm_df.to_excel(excel_writer, sheet_name='logistic_cr_' +str(t)+'_'+ str(p), \n",
    "                           startrow=len(df_classification_report)+5)\n",
    "            excel_writer.save()\n",
    "            print('w')\n",
    "\n",
    "print(\"done for all solvers\")\n",
    "book = load_workbook(excel_file_name)\n",
    "with pd.ExcelWriter(excel_file_name, engine='openpyxl') as excel_writer:\n",
    "    excel_writer.book = book\n",
    "    df.to_excel(excel_writer, sheet_name='logistic_cr_')\n",
    "    excel_writer.save()\n",
    "    print('w')\n"
   ]
  },
  {
   "cell_type": "code",
   "execution_count": null,
   "metadata": {},
   "outputs": [],
   "source": []
  }
 ],
 "metadata": {
  "kernelspec": {
   "display_name": "Python 3",
   "language": "python",
   "name": "python3"
  },
  "language_info": {
   "codemirror_mode": {
    "name": "ipython",
    "version": 3
   },
   "file_extension": ".py",
   "mimetype": "text/x-python",
   "name": "python",
   "nbconvert_exporter": "python",
   "pygments_lexer": "ipython3",
   "version": "3.5.2"
  }
 },
 "nbformat": 4,
 "nbformat_minor": 2
}
