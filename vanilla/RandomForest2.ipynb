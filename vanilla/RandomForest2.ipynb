{
 "cells": [
  {
   "cell_type": "code",
   "execution_count": 4,
   "metadata": {},
   "outputs": [],
   "source": [
    "from __future__ import division\n",
    "from mnist import MNIST\n",
    "from sklearn import tree\n",
    "import numpy as np\n",
    "from sklearn.metrics import classification_report,log_loss,accuracy_score,roc_auc_score\n",
    "from time import time\n",
    "import pandas as pd\n",
    "from datetime import datetime\n",
    "from openpyxl import load_workbook\n",
    "import re\n",
    "from sklearn.model_selection import GridSearchCV\n",
    "from sklearn.preprocessing import label_binarize\n",
    "from sklearn.metrics import confusion_matrix\n",
    "from sklearn.ensemble import RandomForestClassifier\n"
   ]
  },
  {
   "cell_type": "code",
   "execution_count": null,
   "metadata": {},
   "outputs": [],
   "source": [
    "# Loading the data\n",
    "mndata = MNIST('./')\n",
    "images_train, labels_train = mndata.load_training()\n",
    "images_test, labels_test = mndata.load_testing()\n",
    "labels_test = np.array(labels_test)\n",
    "\n",
    "images_train = np.array(images_train)\n",
    "labels_train = np.array(labels_train)"
   ]
  },
  {
   "cell_type": "code",
   "execution_count": null,
   "metadata": {},
   "outputs": [],
   "source": [
    "# Grid Search \n",
    "clf = RandomForestClassifier()\n",
    "param_grid = {\"max_depth\": [1,10,20,25,30,35,40, None],\n",
    "              \"max_features\": [1,5,10,15,20, 30, 35],\n",
    "              \"bootstrap\": [True, False],\n",
    "              \"n_estimators\" : [10,20,25,30,35] }\n",
    "\n",
    "# param_grid = {\"max_depth\": [1,2],}\n",
    "grid_search = GridSearchCV(clf, param_grid=param_grid, cv=5)\n",
    "start = time()\n",
    "grid_search.fit(images_train, labels_train)\n",
    "print(grid_search.best_params_)\n",
    "with open('GridSearch.txt', 'a') as the_file:\n",
    "    the_file.write(str(grid_search.best_params_))\n",
    "\n"
   ]
  }
 ],
 "metadata": {
  "kernelspec": {
   "display_name": "Python 2",
   "language": "python",
   "name": "python2"
  },
  "language_info": {
   "codemirror_mode": {
    "name": "ipython",
    "version": 3
   },
   "file_extension": ".py",
   "mimetype": "text/x-python",
   "name": "python",
   "nbconvert_exporter": "python",
   "pygments_lexer": "ipython3",
   "version": "3.5.2"
  }
 },
 "nbformat": 4,
 "nbformat_minor": 2
}
