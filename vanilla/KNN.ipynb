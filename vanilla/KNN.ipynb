{
 "cells": [
  {
   "cell_type": "code",
   "execution_count": 1,
   "metadata": {},
   "outputs": [],
   "source": [
    "# KNN. "
   ]
  },
  {
   "cell_type": "code",
   "execution_count": 2,
   "metadata": {},
   "outputs": [],
   "source": [
    "from __future__ import division\n",
    "from mnist import MNIST\n",
    "from sklearn import tree\n",
    "import numpy as np\n",
    "from sklearn.metrics import classification_report,log_loss,accuracy_score,roc_auc_score\n",
    "from time import time\n",
    "import pandas as pd\n",
    "from datetime import datetime\n",
    "from openpyxl import load_workbook\n",
    "import re\n",
    "from sklearn.preprocessing import label_binarize\n",
    "from sklearn.metrics import confusion_matrix\n"
   ]
  },
  {
   "cell_type": "code",
   "execution_count": 3,
   "metadata": {},
   "outputs": [],
   "source": [
    "# Loading the data\n",
    "mndata = MNIST('./')\n",
    "images_train, labels_train = mndata.load_training()\n",
    "images_test, labels_test = mndata.load_testing()\n",
    "labels_test = np.array(labels_test)\n",
    "\n",
    "images_train = np.array(images_train)\n",
    "labels_train = np.array(labels_train)\n"
   ]
  },
  {
   "cell_type": "code",
   "execution_count": 4,
   "metadata": {},
   "outputs": [],
   "source": [
    "from sklearn.neighbors import KNeighborsClassifier"
   ]
  },
  {
   "cell_type": "code",
   "execution_count": 5,
   "metadata": {},
   "outputs": [
    {
     "name": "stderr",
     "output_type": "stream",
     "text": [
      "/usr/lib/python3/dist-packages/pandas/io/excel.py:687: DeprecationWarning: Call to deprecated function remove_sheet (Use wb.remove(worksheet) or del wb[sheetname]).\n",
      "  self.book.remove_sheet(self.book.worksheets[0])\n"
     ]
    }
   ],
   "source": [
    "excel_file_name = 'KNN' + str(datetime.now().strftime('%Y%m%d%H%M%S')) + '.xlsx'\n",
    "excel_writer = pd.ExcelWriter(excel_file_name, engine='openpyxl')\n",
    "df = pd.DataFrame(columns=['Test'])\n",
    "df.to_excel(excel_writer, sheet_name='demo_sheet')\n",
    "\n",
    "excel_writer.save()"
   ]
  },
  {
   "cell_type": "code",
   "execution_count": null,
   "metadata": {},
   "outputs": [],
   "source": [
    "def classifaction_report_to_dataframe(report):\n",
    "    report_data = []\n",
    "    lines = report.split('\\n')\n",
    "    for line in lines[2:-5]:\n",
    "        row = {}\n",
    "        row_data = line.split('      ')\n",
    "        if len(row_data)>4:\n",
    "            row['class'] = row_data[1]\n",
    "            row['precision'] = float(row_data[2])\n",
    "            row['recall'] = float(row_data[3])\n",
    "            row['f1_score'] = float(row_data[4])\n",
    "            row['support'] = float(row_data[5])\n",
    "            report_data.append(row)\n",
    "    for line in lines[-4:-1]:\n",
    "        row = {}\n",
    "        p = re.compile(\"[a-z]+ [a-z]+\")\n",
    "        m = p.search(line)  \n",
    "        row['class'] = m.group(0)\n",
    "        p = re.compile(\"\\d+.?\\d+\")\n",
    "        row_data = p.findall(line)\n",
    "        row['precision'] = float(row_data[0])\n",
    "        row['recall'] = float(row_data[1])\n",
    "        row['f1_score'] = float(row_data[2])\n",
    "        row['support'] = float(row_data[3])\n",
    "        report_data.append(row)\n",
    "        \n",
    "        \n",
    "    dataframe = pd.DataFrame.from_dict(report_data)\n",
    "    return dataframe\n"
   ]
  },
  {
   "cell_type": "code",
   "execution_count": null,
   "metadata": {},
   "outputs": [
    {
     "data": {
      "text/plain": [
       "' \\n# Code for tesing purpose \\nimages_train = images_train[0:100]\\nlabels_train = labels_train[0:100]\\nimages_test = images_test[0:100]\\nlabels_test = labels_test[0:100]\\n'"
      ]
     },
     "execution_count": 7,
     "metadata": {},
     "output_type": "execute_result"
    }
   ],
   "source": [
    "''' \n",
    "# Code for tesing purpose \n",
    "images_train = images_train[0:100]\n",
    "labels_train = labels_train[0:100]\n",
    "images_test = images_test[0:100]\n",
    "labels_test = labels_test[0:100]\n",
    "'''"
   ]
  },
  {
   "cell_type": "code",
   "execution_count": null,
   "metadata": {},
   "outputs": [],
   "source": []
  },
  {
   "cell_type": "code",
   "execution_count": null,
   "metadata": {},
   "outputs": [
    {
     "name": "stderr",
     "output_type": "stream",
     "text": [
      "/usr/lib/python3/dist-packages/pandas/io/excel.py:687: DeprecationWarning: Call to deprecated function remove_sheet (Use wb.remove(worksheet) or del wb[sheetname]).\n",
      "  self.book.remove_sheet(self.book.worksheets[0])\n"
     ]
    }
   ],
   "source": [
    "neighbours = [1,10,20,25,30,50,100,200,300,500]\n",
    "# neighbours = [1]\n",
    "\n",
    "df = pd.DataFrame(columns=['Number of neighbours', 'Accuracy','Normalized Accuracy', \n",
    "                 'Time_taken_train','Time_taken_test',\n",
    "                 'Negative Log loss','Macro_auc','Micro_auc'])\n",
    "for n in neighbours:\n",
    "    neigh = KNeighborsClassifier(n_neighbors=n)\n",
    "    \n",
    "    start = time()\n",
    "    neigh.fit(images_train, labels_train) \n",
    "    train_time = time() - start\n",
    "    \n",
    "    start = time()\n",
    "    predictions = neigh.predict(images_test)\n",
    "    test_time = time() - start\n",
    "   \n",
    "    accuracy = accuracy_score(predictions,labels_test,normalize=False)\n",
    "    normalized_accuracy = accuracy_score(predictions,labels_test,normalize=True)\n",
    "    log_loss_prediction = neigh.predict_proba(images_test)\n",
    "    log_loss_val = log_loss(labels_test,log_loss_prediction) \n",
    "    classfication_repo = classification_report(labels_test, predictions)\n",
    "    \n",
    "    \n",
    "    \n",
    "    labels_train_one_hot=label_binarize(labels_test,classes=[0,1,2,3,4,5,6,7,8,9])\n",
    "    predictions_one_hot=label_binarize(predictions,classes=[0,1,2,3,4,5,6,7,8,9])\n",
    "    micro_auc=roc_auc_score(labels_train_one_hot,predictions_one_hot,average=\"micro\")\n",
    "    macro_auc=roc_auc_score(labels_train_one_hot,predictions_one_hot,average=\"macro\")\n",
    "    \n",
    "    cm = confusion_matrix(labels_test,predictions)\n",
    "    cm_df = pd.DataFrame(data=cm)\n",
    "    \n",
    "    \n",
    "    \n",
    "    df_data = [n,accuracy,normalized_accuracy,train_time,test_time,log_loss_val,macro_auc,micro_auc]\n",
    "    df.loc[len(df)] = df_data\n",
    "    \n",
    "    book = load_workbook(excel_file_name)\n",
    "    with pd.ExcelWriter(excel_file_name, engine='openpyxl') as excel_writer:\n",
    "        excel_writer.book = book\n",
    "        df_classification_report = classifaction_report_to_dataframe(classfication_repo)\n",
    "        df_classification_report.to_excel(excel_writer, sheet_name='knn_cr' + '_'+ str(n))\n",
    "        \n",
    "        cm_df.to_excel(excel_writer, sheet_name='knn_cr' + '_'+ str(n),\n",
    "                       startrow=len(df_classification_report)+5)\n",
    "\n",
    "        excel_writer.save()    \n",
    "    \n",
    "book = load_workbook(excel_file_name)\n",
    "with pd.ExcelWriter(excel_file_name, engine='openpyxl') as excel_writer:\n",
    "    excel_writer.book = book\n",
    "    df.to_excel(excel_writer, sheet_name='knn')\n",
    "    excel_writer.save()    "
   ]
  },
  {
   "cell_type": "code",
   "execution_count": null,
   "metadata": {},
   "outputs": [],
   "source": [
    "''' \n",
    "# Code for tesing purpose \n",
    "images_train = images_train[0:100]\n",
    "labels_train = labels_train[0:100]\n",
    "images_test = images_test[0:100]\n",
    "labels_test = labels_test[0:100]\n",
    "'''"
   ]
  },
  {
   "cell_type": "code",
   "execution_count": null,
   "metadata": {},
   "outputs": [],
   "source": [
    "distances = [1,2,3]\n",
    "neighbours = [1,2,5]\n",
    "# distances = [1]\n",
    "# neighbours = [1]\n",
    "df = pd.DataFrame(columns=['Neighbours','Distance used', 'Accuracy','Normalized Accuracy', \n",
    "                 'Time_taken_train','Time_taken_test',\n",
    "                 'Negative Log loss','Macro_auc','Micro_auc'])\n",
    "for n in neighbours:\n",
    "    for d in distances:\n",
    "        neigh = KNeighborsClassifier(n_neighbors=5,p=d)\n",
    "\n",
    "        start = time()\n",
    "        neigh.fit(images_train, labels_train) \n",
    "        train_time = time() - start\n",
    "\n",
    "        start = time()\n",
    "        predictions = neigh.predict(images_test)\n",
    "        test_time = time() - start\n",
    "\n",
    "        accuracy = accuracy_score(predictions,labels_test,normalize=False)\n",
    "        normalized_accuracy = accuracy_score(predictions,labels_test,normalize=True)\n",
    "        log_loss_prediction = neigh.predict_proba(images_test)\n",
    "        log_loss_val = log_loss(labels_test,log_loss_prediction) \n",
    "        classfication_repo = classification_report(labels_test, predictions)\n",
    "\n",
    "\n",
    "\n",
    "        labels_train_one_hot=label_binarize(labels_test,classes=[0,1,2,3,4,5,6,7,8,9])\n",
    "        predictions_one_hot=label_binarize(predictions,classes=[0,1,2,3,4,5,6,7,8,9])\n",
    "        micro_auc=roc_auc_score(labels_train_one_hot,predictions_one_hot,average=\"micro\")\n",
    "        macro_auc=roc_auc_score(labels_train_one_hot,predictions_one_hot,average=\"macro\")\n",
    "\n",
    "\n",
    "        cm = confusion_matrix(labels_test,predictions)\n",
    "        cm_df = pd.DataFrame(data=cm)\n",
    "\n",
    "        df_data = [n,d,accuracy,normalized_accuracy,train_time,test_time,log_loss_val,macro_auc,micro_auc]\n",
    "        df.loc[len(df)] = df_data\n",
    "\n",
    "        book = load_workbook(excel_file_name)\n",
    "        with pd.ExcelWriter(excel_file_name, engine='openpyxl') as excel_writer:\n",
    "            excel_writer.book = book\n",
    "            df_classification_report = classifaction_report_to_dataframe(classfication_repo)\n",
    "            df_classification_report.to_excel(excel_writer, sheet_name='knn_cr_d' + '_'+ str(n))\n",
    "            \n",
    "            cm_df.to_excel(excel_writer, sheet_name='knn_cr_d' + '_'+ str(n),\n",
    "                       startrow=len(df_classification_report)+5)\n",
    "\n",
    "            excel_writer.save()    \n",
    "    \n",
    "book = load_workbook(excel_file_name)\n",
    "with pd.ExcelWriter(excel_file_name, engine='openpyxl') as excel_writer:\n",
    "    excel_writer.book = book\n",
    "    df.to_excel(excel_writer, sheet_name='knn_distances')\n",
    "    excel_writer.save()    "
   ]
  }
 ],
 "metadata": {
  "kernelspec": {
   "display_name": "Python 2",
   "language": "python",
   "name": "python2"
  },
  "language_info": {
   "codemirror_mode": {
    "name": "ipython",
    "version": 3
   },
   "file_extension": ".py",
   "mimetype": "text/x-python",
   "name": "python",
   "nbconvert_exporter": "python",
   "pygments_lexer": "ipython3",
   "version": "3.5.2"
  }
 },
 "nbformat": 4,
 "nbformat_minor": 2
}
