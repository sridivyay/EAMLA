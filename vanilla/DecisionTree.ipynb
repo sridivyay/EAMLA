{
 "cells": [
  {
   "cell_type": "code",
   "execution_count": 1,
   "metadata": {},
   "outputs": [
    {
     "data": {
      "text/plain": [
       "'\\nEmpirical analysis for DecisionTreeClassifier\\n    1. splitter\\n    2. max_depth\\n    3. presort\\n    4. max_features\\n\\n\\n'"
      ]
     },
     "execution_count": 1,
     "metadata": {},
     "output_type": "execute_result"
    }
   ],
   "source": [
    "'''\n",
    "Empirical analysis for DecisionTreeClassifier\n",
    "    1. splitter\n",
    "    2. max_depth\n",
    "    3. presort\n",
    "    4. max_features\n",
    "\n",
    "\n",
    "'''"
   ]
  },
  {
   "cell_type": "code",
   "execution_count": 2,
   "metadata": {},
   "outputs": [],
   "source": [
    "from __future__ import division\n",
    "from mnist import MNIST\n",
    "from sklearn import tree\n",
    "import numpy as np\n",
    "from sklearn.metrics import classification_report,log_loss,accuracy_score,roc_auc_score\n",
    "from time import time\n",
    "import pandas as pd\n",
    "from datetime import datetime\n",
    "from openpyxl import load_workbook\n",
    "import re\n",
    "from sklearn.model_selection import GridSearchCV\n",
    "from sklearn.preprocessing import label_binarize\n",
    "from sklearn.metrics import confusion_matrix"
   ]
  },
  {
   "cell_type": "code",
   "execution_count": 3,
   "metadata": {},
   "outputs": [],
   "source": [
    "from sklearn import tree"
   ]
  },
  {
   "cell_type": "code",
   "execution_count": 4,
   "metadata": {},
   "outputs": [],
   "source": [
    "# Loading the data\n",
    "mndata = MNIST('./')\n",
    "images_train, labels_train = mndata.load_training()\n",
    "images_test, labels_test = mndata.load_testing()\n",
    "labels_test = np.array(labels_test)\n",
    "\n",
    "images_train = np.array(images_train)\n",
    "labels_train = np.array(labels_train)"
   ]
  },
  {
   "cell_type": "code",
   "execution_count": 5,
   "metadata": {},
   "outputs": [],
   "source": [
    "def get_metrics(train_time,test_time,predictions,labels_test,images_test,clf):\n",
    "    # Metrics calculation \n",
    "    accuracy = accuracy_score(predictions,labels_test,normalize=False)\n",
    "    normalized_accuracy = accuracy_score(predictions,labels_test,normalize=True)\n",
    "    log_loss_prediction = clf.predict_proba(images_test)\n",
    "    log_loss_val = log_loss(labels_test,log_loss_prediction)     \n",
    "    classfication_repo = classification_report(labels_test, predictions)\n",
    "    \n",
    "    labels_train_one_hot=label_binarize(labels_test,classes=[0,1,2,3,4,5,6,7,8,9])\n",
    "    predictions_one_hot=label_binarize(predictions,classes=[0,1,2,3,4,5,6,7,8,9])\n",
    "    micro_auc=roc_auc_score(labels_train_one_hot,predictions_one_hot,average=\"micro\")\n",
    "    macro_auc=roc_auc_score(labels_train_one_hot,predictions_one_hot,average=\"macro\")\n",
    "    \n",
    "    cm = confusion_matrix(labels_test,predictions)\n",
    "    cm_df = pd.DataFrame(data=cm)\n",
    "    \n",
    "    return [accuracy,normalized_accuracy,train_time,test_time,log_loss_val,macro_auc,micro_auc],cm_df,classfication_repo\n"
   ]
  },
  {
   "cell_type": "code",
   "execution_count": 6,
   "metadata": {},
   "outputs": [],
   "source": [
    "def classifaction_report_to_dataframe(report):\n",
    "    report_data = []\n",
    "    lines = report.split('\\n')\n",
    "    for line in lines[2:-5]:\n",
    "        row = {}\n",
    "        row_data = line.split('      ')\n",
    "        if len(row_data)>4:\n",
    "            row['class'] = row_data[1]\n",
    "            row['precision'] = float(row_data[2])\n",
    "            row['recall'] = float(row_data[3])\n",
    "            row['f1_score'] = float(row_data[4])\n",
    "            row['support'] = float(row_data[5])\n",
    "            report_data.append(row)\n",
    "    for line in lines[-4:-1]:\n",
    "        row = {}\n",
    "        p = re.compile(\"[a-z]+ [a-z]+\")\n",
    "        m = p.search(line)  \n",
    "        row['class'] = m.group(0)\n",
    "        p = re.compile(\"\\d+.?\\d+\")\n",
    "        row_data = p.findall(line)\n",
    "        row['precision'] = float(row_data[0])\n",
    "        row['recall'] = float(row_data[1])\n",
    "        row['f1_score'] = float(row_data[2])\n",
    "        row['support'] = float(row_data[3])\n",
    "        report_data.append(row)\n",
    "        \n",
    "        \n",
    "    dataframe = pd.DataFrame.from_dict(report_data)\n",
    "    return dataframe\n"
   ]
  },
  {
   "cell_type": "code",
   "execution_count": 7,
   "metadata": {},
   "outputs": [
    {
     "name": "stderr",
     "output_type": "stream",
     "text": [
      "/usr/lib/python3/dist-packages/pandas/io/excel.py:687: DeprecationWarning: Call to deprecated function remove_sheet (Use wb.remove(worksheet) or del wb[sheetname]).\n",
      "  self.book.remove_sheet(self.book.worksheets[0])\n"
     ]
    }
   ],
   "source": [
    "excel_file_name = 'DecisionTree' + str(datetime.now().strftime('%Y%m%d%H%M%S')) + '.xlsx'\n",
    "excel_writer = pd.ExcelWriter(excel_file_name, engine='openpyxl')\n",
    "df = pd.DataFrame(columns=['Test'])\n",
    "df.to_excel(excel_writer, sheet_name='demo_sheet')\n",
    "\n",
    "excel_writer.save()"
   ]
  },
  {
   "cell_type": "code",
   "execution_count": 8,
   "metadata": {},
   "outputs": [
    {
     "ename": "NameError",
     "evalue": "name 'splitters' is not defined",
     "output_type": "error",
     "traceback": [
      "\u001b[0;31m---------------------------------------------------------------------------\u001b[0m",
      "\u001b[0;31mNameError\u001b[0m                                 Traceback (most recent call last)",
      "\u001b[0;32m<ipython-input-8-3f2dd844332c>\u001b[0m in \u001b[0;36m<module>\u001b[0;34m\u001b[0m\n\u001b[1;32m      5\u001b[0m                  'Negative Log loss','Macro_auc','Micro_auc'])\n\u001b[1;32m      6\u001b[0m \u001b[0;34m\u001b[0m\u001b[0m\n\u001b[0;32m----> 7\u001b[0;31m \u001b[0;32mfor\u001b[0m \u001b[0ms\u001b[0m \u001b[0;32min\u001b[0m \u001b[0msplitters\u001b[0m\u001b[0;34m:\u001b[0m\u001b[0;34m\u001b[0m\u001b[0m\n\u001b[0m\u001b[1;32m      8\u001b[0m \u001b[0;34m\u001b[0m\u001b[0m\n\u001b[1;32m      9\u001b[0m     \u001b[0mclf\u001b[0m \u001b[0;34m=\u001b[0m \u001b[0mtree\u001b[0m\u001b[0;34m.\u001b[0m\u001b[0mDecisionTreeClassifier\u001b[0m\u001b[0;34m(\u001b[0m\u001b[0msplitter\u001b[0m\u001b[0;34m=\u001b[0m\u001b[0ms\u001b[0m\u001b[0;34m)\u001b[0m\u001b[0;34m\u001b[0m\u001b[0m\n",
      "\u001b[0;31mNameError\u001b[0m: name 'splitters' is not defined"
     ]
    }
   ],
   "source": [
    "presort = ['best','random']\n",
    "\n",
    "df = pd.DataFrame(columns=['Splitter', 'Accuracy','Normalized Accuracy', \n",
    "                 'Time_taken_train','Time_taken_test',\n",
    "                 'Negative Log loss','Macro_auc','Micro_auc'])\n",
    "\n",
    "for s in splitters:\n",
    "    \n",
    "    clf = tree.DecisionTreeClassifier(splitter=s)\n",
    "    \n",
    "    start = time()\n",
    "    clf.fit(images_train, labels_train)\n",
    "    train_time = time() - start\n",
    "    \n",
    "    start = time()\n",
    "    predictions = clf.predict(images_test)\n",
    "    test_time = time() - start\n",
    "    \n",
    "    metrics_array, cm_df,classfication_repo = get_metrics(train_time,test_time,predictions,labels_test,images_test,clf)\n",
    "    \n",
    "    df_data = [s] + metrics_array\n",
    "    df.loc[len(df)] = df_data\n",
    "    \n",
    "    book = load_workbook(excel_file_name)\n",
    "    with pd.ExcelWriter(excel_file_name, engine='openpyxl') as excel_writer:\n",
    "        excel_writer.book = book\n",
    "        df_classification_report = classifaction_report_to_dataframe(classfication_repo)\n",
    "        df_classification_report.to_excel(excel_writer, sheet_name='splitters_cr' + '_'+ str(s))\n",
    "        cm_df.to_excel(excel_writer, sheet_name='splitters_cr' + '_'+ str(s),startrow=len(df_classification_report)+5)\n",
    "        excel_writer.save()\n",
    "\n",
    "    \n",
    "book = load_workbook(excel_file_name)\n",
    "with pd.ExcelWriter(excel_file_name, engine='openpyxl') as excel_writer:\n",
    "    excel_writer.book = book\n",
    "    df.to_excel(excel_writer, sheet_name='splitters')\n",
    "    excel_writer.save()"
   ]
  },
  {
   "cell_type": "code",
   "execution_count": null,
   "metadata": {},
   "outputs": [],
   "source": [
    "max_depth_nodes = [1,2,5,10,15,20,25,30,35,40,None]\n",
    "# max_depth_nodes = [1]\n",
    "df = pd.DataFrame(columns=['Max depth', 'Accuracy','Normalized Accuracy', \n",
    "                 'Time_taken_train','Time_taken_test',\n",
    "                 'Negative Log loss','Macro_auc','Micro_auc'])\n",
    "\n",
    "for d in max_depth_nodes:\n",
    "    \n",
    "    clf = tree.DecisionTreeClassifier(max_depth=d)\n",
    "    \n",
    "    start = time()\n",
    "    clf.fit(images_train, labels_train)\n",
    "    train_time = time() - start\n",
    "    \n",
    "    start = time()\n",
    "    predictions = clf.predict(images_test)\n",
    "    test_time = time() - start\n",
    "    \n",
    "    metrics_array, cm_df, classfication_repo = get_metrics(train_time,test_time,predictions,labels_test,images_test,clf)\n",
    "    \n",
    "    df_data = [d] + metrics_array\n",
    "    df.loc[len(df)] = df_data\n",
    "    \n",
    "    book = load_workbook(excel_file_name)\n",
    "    with pd.ExcelWriter(excel_file_name, engine='openpyxl') as excel_writer:\n",
    "        excel_writer.book = book\n",
    "        df_classification_report = classifaction_report_to_dataframe(classfication_repo)\n",
    "        df_classification_report.to_excel(excel_writer, sheet_name='max_depth_cr' + '_'+ str(d))\n",
    "        cm_df.to_excel(excel_writer, sheet_name='max_depth_cr' + '_'+ str(d),startrow=len(df_classification_report)+5)\n",
    "        excel_writer.save()\n",
    "\n",
    "    \n",
    "book = load_workbook(excel_file_name)\n",
    "with pd.ExcelWriter(excel_file_name, engine='openpyxl') as excel_writer:\n",
    "    excel_writer.book = book\n",
    "    df.to_excel(excel_writer, sheet_name='max_depth')\n",
    "    excel_writer.save()"
   ]
  },
  {
   "cell_type": "code",
   "execution_count": null,
   "metadata": {},
   "outputs": [],
   "source": [
    "presort_features = [False,True]\n",
    "# presort_features = [False]\n",
    "df = pd.DataFrame(columns=['presort', 'Accuracy','Normalized Accuracy', \n",
    "                 'Time_taken_train','Time_taken_test',\n",
    "                 'Negative Log loss','Macro_auc','Micro_auc'])\n",
    "\n",
    "for d in presort_features:\n",
    "    \n",
    "    clf = tree.DecisionTreeClassifier(presort=d)\n",
    "    \n",
    "    start = time()\n",
    "    clf.fit(images_train, labels_train)\n",
    "    train_time = time() - start\n",
    "    \n",
    "    start = time()\n",
    "    predictions = clf.predict(images_test)\n",
    "    test_time = time() - start\n",
    "    \n",
    "    metrics_array, cm_df,classfication_repo = get_metrics(train_time,test_time,predictions,labels_test,images_test,clf)\n",
    "    \n",
    "    df_data = [d] + metrics_array\n",
    "    df.loc[len(df)] = df_data\n",
    "    \n",
    "    book = load_workbook(excel_file_name)\n",
    "    with pd.ExcelWriter(excel_file_name, engine='openpyxl') as excel_writer:\n",
    "        excel_writer.book = book\n",
    "        df_classification_report = classifaction_report_to_dataframe(classfication_repo)\n",
    "        df_classification_report.to_excel(excel_writer, sheet_name='presort_cr' + '_'+ str(d))\n",
    "        cm_df.to_excel(excel_writer, sheet_name='presort_cr' + '_'+ str(d),startrow=len(df_classification_report)+5)\n",
    "        excel_writer.save()\n",
    "\n",
    "    \n",
    "book = load_workbook(excel_file_name)\n",
    "with pd.ExcelWriter(excel_file_name, engine='openpyxl') as excel_writer:\n",
    "    excel_writer.book = book\n",
    "    df.to_excel(excel_writer, sheet_name='presort')\n",
    "    excel_writer.save()"
   ]
  },
  {
   "cell_type": "code",
   "execution_count": null,
   "metadata": {},
   "outputs": [],
   "source": [
    "max_features = [1,2,5,10,15,20,25,30,50,100,200,300,400]\n",
    "# max_features = [1]\n",
    "df = pd.DataFrame(columns=['Max features', 'Accuracy','Normalized Accuracy', \n",
    "                 'Time_taken_train','Time_taken_test',\n",
    "                 'Negative Log loss','Macro_auc','Micro_auc'])\n",
    "\n",
    "for d in max_features:\n",
    "    \n",
    "    clf = tree.DecisionTreeClassifier(max_features=d)\n",
    "    \n",
    "    start = time()\n",
    "    clf.fit(images_train, labels_train)\n",
    "    train_time = time() - start\n",
    "    \n",
    "    start = time()\n",
    "    predictions = clf.predict(images_test)\n",
    "    test_time = time() - start\n",
    "    \n",
    "    metrics_array, cm_df, classfication_repo = get_metrics(train_time,test_time,predictions,labels_test,images_test,clf)\n",
    "    \n",
    "    df_data = [d] + metrics_array\n",
    "    df.loc[len(df)] = df_data\n",
    "    \n",
    "    book = load_workbook(excel_file_name)\n",
    "    with pd.ExcelWriter(excel_file_name, engine='openpyxl') as excel_writer:\n",
    "        excel_writer.book = book\n",
    "        df_classification_report = classifaction_report_to_dataframe(classfication_repo)\n",
    "        df_classification_report.to_excel(excel_writer, sheet_name='max_features_cr' + '_'+ str(d))\n",
    "        cm_df.to_excel(excel_writer, sheet_name='max_features_cr' + '_'+ str(d),startrow=len(df_classification_report)+5)\n",
    "        excel_writer.save()\n",
    "\n",
    "    \n",
    "book = load_workbook(excel_file_name)\n",
    "with pd.ExcelWriter(excel_file_name, engine='openpyxl') as excel_writer:\n",
    "    excel_writer.book = book\n",
    "    df.to_excel(excel_writer, sheet_name='max_features')\n",
    "    excel_writer.save()"
   ]
  }
 ],
 "metadata": {
  "kernelspec": {
   "display_name": "Python 2",
   "language": "python",
   "name": "python2"
  },
  "language_info": {
   "codemirror_mode": {
    "name": "ipython",
    "version": 3
   },
   "file_extension": ".py",
   "mimetype": "text/x-python",
   "name": "python",
   "nbconvert_exporter": "python",
   "pygments_lexer": "ipython3",
   "version": "3.5.2"
  }
 },
 "nbformat": 4,
 "nbformat_minor": 2
}
