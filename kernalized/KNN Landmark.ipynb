{
 "cells": [
  {
   "cell_type": "code",
   "execution_count": 85,
   "metadata": {},
   "outputs": [],
   "source": [
    "from __future__ import division\n",
    "from mnist import MNIST\n",
    "from sklearn import tree\n",
    "import numpy as np\n",
    "from sklearn.metrics import classification_report,log_loss,accuracy_score,roc_auc_score,confusion_matrix\n",
    "from sklearn.neighbors import KNeighborsClassifier\n",
    "from time import time\n",
    "import pandas as pd\n",
    "from datetime import datetime\n",
    "from openpyxl import load_workbook\n",
    "import re\n",
    "from sklearn.preprocessing import label_binarize\n",
    "\n"
   ]
  },
  {
   "cell_type": "code",
   "execution_count": 76,
   "metadata": {},
   "outputs": [],
   "source": [
    "# Loading the data\n",
    "mndata = MNIST('./')\n",
    "images_train, labels_train = mndata.load_training()\n",
    "images_train = np.array(images_train)\n",
    "labels_train = np.array(labels_train)\n",
    "\n",
    "images_test, labels_test = mndata.load_testing()\n",
    "images_test = np.array(images_test)\n",
    "labels_test = np.array(labels_test)\n",
    "\n"
   ]
  },
  {
   "cell_type": "code",
   "execution_count": 77,
   "metadata": {},
   "outputs": [],
   "source": [
    "def classifaction_report_to_dataframe(report):\n",
    "    report_data = []\n",
    "    lines = report.split('\\n')\n",
    "    for line in lines[2:-5]:\n",
    "        row = {}\n",
    "        row_data = line.split('      ')\n",
    "        if len(row_data)>4:\n",
    "            row['class'] = row_data[1]\n",
    "            row['precision'] = float(row_data[2])\n",
    "            row['recall'] = float(row_data[3])\n",
    "            row['f1_score'] = float(row_data[4])\n",
    "            row['support'] = float(row_data[5])\n",
    "            report_data.append(row)\n",
    "    for line in lines[-4:-1]:\n",
    "        row = {}\n",
    "        p = re.compile(\"[a-z]+ [a-z]+\")\n",
    "        m = p.search(line)  \n",
    "        row['class'] = m.group(0)\n",
    "        p = re.compile(\"\\d+.?\\d+\")\n",
    "        row_data = p.findall(line)\n",
    "        row['precision'] = float(row_data[0])\n",
    "        row['recall'] = float(row_data[1])\n",
    "        row['f1_score'] = float(row_data[2])\n",
    "        row['support'] = float(row_data[3])\n",
    "        report_data.append(row)\n",
    "        \n",
    "        \n",
    "    dataframe = pd.DataFrame.from_dict(report_data)\n",
    "    return dataframe\n"
   ]
  },
  {
   "cell_type": "code",
   "execution_count": 78,
   "metadata": {},
   "outputs": [],
   "source": [
    "def get_landmark_points(n,data):\n",
    "    landmark_points  = data[np.random.choice(data.shape[0], n, replace=False),:]\n",
    "    return landmark_points\n",
    "    "
   ]
  },
  {
   "cell_type": "code",
   "execution_count": 79,
   "metadata": {},
   "outputs": [],
   "source": [
    "def gaussian_kernel_distance(x,y):\n",
    "    return np.exp(-0.1 * (np.linalg.norm(x-y)) **2)"
   ]
  },
  {
   "cell_type": "code",
   "execution_count": 80,
   "metadata": {},
   "outputs": [],
   "source": [
    "def transform_all_input_data(input_data,landmark_points):\n",
    "    new_input_data = np.zeros((input_data.shape[0], landmark_points.shape[0]))\n",
    "    rows = input_data.shape[0]\n",
    "    cols = landmark_points.shape[0]\n",
    "    i = 0\n",
    "    j = 0\n",
    "    for i in range(0,rows):\n",
    "        for j in range(0,cols):\n",
    "            new_input_data[i,j] = gaussian_kernel_distance(input_data[i,:],landmark_points[j,:])\n",
    "    return new_input_data\n"
   ]
  },
  {
   "cell_type": "code",
   "execution_count": 81,
   "metadata": {},
   "outputs": [],
   "source": [
    "no_of_landmark = [1,2,5,10,20,30,50,100,200,300,500]\n",
    "no_neighbours = [1,2,5,10]\n",
    "# no_neighbours = [1]\n",
    "# no_of_landmark = [1,2,5]\n"
   ]
  },
  {
   "cell_type": "code",
   "execution_count": 82,
   "metadata": {},
   "outputs": [
    {
     "name": "stderr",
     "output_type": "stream",
     "text": [
      "/usr/lib/python3/dist-packages/pandas/io/excel.py:687: DeprecationWarning: Call to deprecated function remove_sheet (Use wb.remove(worksheet) or del wb[sheetname]).\n",
      "  self.book.remove_sheet(self.book.worksheets[0])\n"
     ]
    }
   ],
   "source": [
    "excel_file_name = 'KNN_Landmark_' + str(datetime.now().strftime('%Y%m%d%H%M%S')) + '.xlsx'\n",
    "\n",
    "\n",
    "\n",
    "excel_writer = pd.ExcelWriter(excel_file_name, engine='openpyxl')\n",
    "df = pd.DataFrame(columns=['Test'])\n",
    "df.to_excel(excel_writer, sheet_name='demo_sheet')\n",
    "\n",
    "excel_writer.save()"
   ]
  },
  {
   "cell_type": "code",
   "execution_count": 83,
   "metadata": {},
   "outputs": [],
   "source": [
    "df = pd.DataFrame(columns=['Number of landmark points','Number of neighbours','Accuracy','Normalized Accuracy', \n",
    "                 'Time_taken_train','Time_taken_test',\n",
    "                 'Negative Log loss','Macro_auc','Micro_auc'])"
   ]
  },
  {
   "cell_type": "code",
   "execution_count": 86,
   "metadata": {},
   "outputs": [
    {
     "name": "stderr",
     "output_type": "stream",
     "text": [
      "/users/mtech/sridivyay/.local/lib/python3.5/site-packages/sklearn/metrics/classification.py:1143: UndefinedMetricWarning: Precision and F-score are ill-defined and being set to 0.0 in labels with no predicted samples.\n",
      "  'precision', 'predicted', average, warn_for)\n",
      "/usr/lib/python3/dist-packages/pandas/io/excel.py:687: DeprecationWarning: Call to deprecated function remove_sheet (Use wb.remove(worksheet) or del wb[sheetname]).\n",
      "  self.book.remove_sheet(self.book.worksheets[0])\n"
     ]
    },
    {
     "name": "stdout",
     "output_type": "stream",
     "text": [
      "1 1 1010\n"
     ]
    },
    {
     "name": "stderr",
     "output_type": "stream",
     "text": [
      "/users/mtech/sridivyay/.local/lib/python3.5/site-packages/sklearn/metrics/classification.py:1143: UndefinedMetricWarning: Precision and F-score are ill-defined and being set to 0.0 in labels with no predicted samples.\n",
      "  'precision', 'predicted', average, warn_for)\n",
      "/usr/lib/python3/dist-packages/pandas/io/excel.py:687: DeprecationWarning: Call to deprecated function remove_sheet (Use wb.remove(worksheet) or del wb[sheetname]).\n",
      "  self.book.remove_sheet(self.book.worksheets[0])\n"
     ]
    },
    {
     "name": "stdout",
     "output_type": "stream",
     "text": [
      "2 1 1010\n"
     ]
    },
    {
     "name": "stderr",
     "output_type": "stream",
     "text": [
      "/users/mtech/sridivyay/.local/lib/python3.5/site-packages/sklearn/metrics/classification.py:1143: UndefinedMetricWarning: Precision and F-score are ill-defined and being set to 0.0 in labels with no predicted samples.\n",
      "  'precision', 'predicted', average, warn_for)\n",
      "/usr/lib/python3/dist-packages/pandas/io/excel.py:687: DeprecationWarning: Call to deprecated function remove_sheet (Use wb.remove(worksheet) or del wb[sheetname]).\n",
      "  self.book.remove_sheet(self.book.worksheets[0])\n"
     ]
    },
    {
     "name": "stdout",
     "output_type": "stream",
     "text": [
      "5 1 1010\n"
     ]
    },
    {
     "name": "stderr",
     "output_type": "stream",
     "text": [
      "/usr/lib/python3/dist-packages/pandas/io/excel.py:687: DeprecationWarning: Call to deprecated function remove_sheet (Use wb.remove(worksheet) or del wb[sheetname]).\n",
      "  self.book.remove_sheet(self.book.worksheets[0])\n"
     ]
    }
   ],
   "source": [
    "for l in no_of_landmark:\n",
    "    for n in no_neighbours:        \n",
    "        landmark_points = get_landmark_points(l,images_train)\n",
    "        np.array(landmark_points)\n",
    "        new_input_data = transform_all_input_data(images_train,landmark_points)\n",
    "        new_test_data = transform_all_input_data(images_test,landmark_points)\n",
    "        neigh = KNeighborsClassifier(n_neighbors=n)\n",
    "        \n",
    "        \n",
    "        start = time()\n",
    "        neigh.fit(new_input_data, labels_train)\n",
    "        train_time = time() - start\n",
    "        \n",
    "        start = time()\n",
    "        predictions = neigh.predict(new_test_data)\n",
    "        test_time = time() - start\n",
    "                                    \n",
    "        accuracy = accuracy_score(predictions,labels_test,normalize=False)                                    \n",
    "        normalized_accuracy = accuracy_score(predictions,labels_test,normalize=True)\n",
    "        log_loss_prediction = neigh.predict_proba(new_test_data)\n",
    "        log_loss_val = log_loss(labels_test,log_loss_prediction) \n",
    "        classfication_repo = classification_report(labels_test, predictions)\n",
    "    \n",
    "\n",
    "        labels_train_one_hot=label_binarize(labels_test,classes=[0,1,2,3,4,5,6,7,8,9])\n",
    "        predictions_one_hot=label_binarize(predictions,classes=[0,1,2,3,4,5,6,7,8,9])\n",
    "        micro_auc=roc_auc_score(labels_train_one_hot,predictions_one_hot,average=\"micro\")\n",
    "        macro_auc=roc_auc_score(labels_train_one_hot,predictions_one_hot,average=\"macro\")\n",
    "        \n",
    "        df_data = [l,n,accuracy,normalized_accuracy,train_time,test_time,log_loss_val,macro_auc,micro_auc]\n",
    "        '''\n",
    "        \n",
    "        \n",
    "        df = pd.DataFrame(columns=['Number of landmark points','Number of neighbours','Accuracy','Normalized Accuracy', \n",
    "                 'Time_taken_train','Time_taken_test',\n",
    "                 'Negative Log loss','Macro_auc','Micro_auc'])\n",
    "\n",
    "        '''\n",
    "        df.loc[len(df)] = df_data\n",
    "        \n",
    "        cm = confusion_matrix(labels_test,predictions)\n",
    "        cm_df = pd.DataFrame(data=cm)\n",
    "        \n",
    "        print(l,n,accuracy)\n",
    "        \n",
    "        book = load_workbook(excel_file_name)\n",
    "        with pd.ExcelWriter(excel_file_name, engine='openpyxl') as excel_writer:\n",
    "            excel_writer.book = book\n",
    "            df_classification_report = classifaction_report_to_dataframe(classfication_repo)\n",
    "            df_classification_report.to_excel(excel_writer, sheet_name='knn_landmark_cr' + '_'+ str(l) + '_'+ str(n))\n",
    "            cm_df.to_excel(excel_writer, sheet_name='knn_landmark_cr' + '_'+ str(l) + '_'+ str(n),\n",
    "                               startrow=len(df_classification_report)+5)\n",
    "\n",
    "            excel_writer.save()    \n",
    "    \n",
    "book = load_workbook(excel_file_name)\n",
    "with pd.ExcelWriter(excel_file_name, engine='openpyxl') as excel_writer:\n",
    "    excel_writer.book = book\n",
    "    df.to_excel(excel_writer, sheet_name='knn_landmark')\n",
    "    excel_writer.save()       \n"
   ]
  }
 ],
 "metadata": {
  "kernelspec": {
   "display_name": "Python 2",
   "language": "python",
   "name": "python2"
  },
  "language_info": {
   "codemirror_mode": {
    "name": "ipython",
    "version": 3
   },
   "file_extension": ".py",
   "mimetype": "text/x-python",
   "name": "python",
   "nbconvert_exporter": "python",
   "pygments_lexer": "ipython3",
   "version": "3.5.2"
  }
 },
 "nbformat": 4,
 "nbformat_minor": 2
}
